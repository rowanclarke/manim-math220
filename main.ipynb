{
 "cells": [
  {
   "cell_type": "code",
   "execution_count": 1,
   "metadata": {
    "cellView": "form",
    "colab": {
     "base_uri": "https://localhost:8080/",
     "height": 1000
    },
    "id": "pKz02VwNrXjr",
    "outputId": "70947f06-7ad2-47d9-bf8f-11b229fd9b26"
   },
   "outputs": [
    {
     "data": {
      "text/html": [
       "<pre style=\"white-space:pre;overflow-x:auto;line-height:normal;font-family:Menlo,'DejaVu Sans Mono',consolas,'Courier New',monospace\">Manim Community <span style=\"color: #008000; text-decoration-color: #008000\">v0.9.0</span>\n",
       "\n",
       "</pre>\n"
      ],
      "text/plain": [
       "Manim Community \u001b[32mv0.\u001b[0m\u001b[32m9.0\u001b[0m\n",
       "\n"
      ]
     },
     "metadata": {},
     "output_type": "display_data"
    }
   ],
   "source": [
    "#@title Initialise\n",
    "from manim import *\n",
    "import numpy as np\n",
    "\n",
    "_vec = [[1, 0, 0], [0, 1, 0], [0, 0, 1]]\n",
    "_rand = [[1, 1, 2], [1, 2, 4], [-1, 0, 1]]\n",
    "_vec2 = np.dot(_vec, np.transpose(_rand))\n",
    "_rect = [[1, 1, 2],[1, 2, 4]]\n",
    "\n",
    "_symm = [[2, 1, 1], [1, 2, 1], [1, 1, 4]]\n",
    "\n",
    "def update(m):\n",
    "    global w, v, wD, wS, wDS, vS, vT, vTS\n",
    "    w, v = np.linalg.eig(m)\n",
    "    wD = np.diag(w);\n",
    "    def shorten(e):\n",
    "        e3 = round(e, 2)\n",
    "        e = round(e)\n",
    "        if (e == e3):\n",
    "            return e\n",
    "        else:\n",
    "            return e3\n",
    "    wS = list(map(shorten, w))\n",
    "    wDS = np.diag(wS);\n",
    "    vS = list(map(lambda e: list(map(shorten, e)), v))\n",
    "    vT = np.transpose(v)\n",
    "    vTS = list(map(lambda e: list(map(shorten, e)), vT))\n",
    "    \n",
    "def vec2arr(v, colors=[None, None, None]):\n",
    "    return list(map(lambda ie:\n",
    "            Arrow3D(\n",
    "                color=colors[ie[0]],\n",
    "                start=np.array([0, 0, 0]),\n",
    "                end=np.array(ie[1]),\n",
    "                resolution=8)\n",
    "            , enumerate(v)))"
   ]
  },
  {
   "cell_type": "markdown",
   "metadata": {
    "id": "ul0-7ENs7b-P"
   },
   "source": [
    "# Spectral Decomposition and Single Value Decomposition\n",
    "\n",
    "by Rowan Clarke, Aditi Dhillon, Alessandro Curioni, Ethan Darbyshire, Jonathan Baccari"
   ]
  },
  {
   "cell_type": "markdown",
   "metadata": {
    "id": "pLum-CAWk4rL",
    "tags": []
   },
   "source": [
    "## Transformations\n",
    "\n",
    "We can visualise matrices by thier transformations on the identity."
   ]
  },
  {
   "cell_type": "code",
   "execution_count": 2,
   "metadata": {
    "id": "dqmICjw4rx3N"
   },
   "outputs": [
    {
     "name": "stderr",
     "output_type": "stream",
     "text": [
      "                                                                                                               \r"
     ]
    },
    {
     "data": {
      "text/html": [
       "<video src=\"media/jupyter/VectorTransformation@2022-12-15@11-31-36.mp4\" controls autoplay loop style=\"max-width: 25vw;\"  >\n",
       "      Your browser does not support the <code>video</code> element.\n",
       "    </video>"
      ],
      "text/plain": [
       "<IPython.core.display.Video object>"
      ]
     },
     "metadata": {},
     "output_type": "display_data"
    }
   ],
   "source": [
    "#@title Visualise Matrix as a Transformation\n",
    "\n",
    "mat = _rand\n",
    "vec = _vec\n",
    "vec2 = _vec2\n",
    "\n",
    "class VectorTransformation(ThreeDScene):\n",
    "    def construct(self):\n",
    "        ax = ThreeDAxes()\n",
    "        colors = [RED, GREEN, BLUE]\n",
    "        arrs_before = vec2arr(vec)\n",
    "        arrs_after = vec2arr(vec2, colors)\n",
    "        m = Matrix(mat).to_corner(UL)\n",
    "        self.add_fixed_in_frame_mobjects(m)\n",
    "        self.set_camera_orientation(phi=2*PI/5, theta=-PI/5)\n",
    "        self.add(ax, *arrs_before)\n",
    "        self.begin_3dillusion_camera_rotation()\n",
    "        self.play(Create(m))\n",
    "        self.play(m.animate.set_column_colors(*colors), *list(map(lambda arri: arri[1].animate.set_color(colors[arri[0]]), enumerate(arrs_before))))\n",
    "        self.wait()\n",
    "        self.play(*list(map(lambda arri: arri[1].animate.become(arrs_after[arri[0]]), enumerate(arrs_before))))\n",
    "        self.wait(duration=3)\n",
    "        \n",
    "%manim -qm -o vmt -v WARNING VectorTransformation"
   ]
  },
  {
   "cell_type": "code",
   "execution_count": 3,
   "metadata": {
    "id": "8YScFz7IyjWr"
   },
   "outputs": [
    {
     "name": "stderr",
     "output_type": "stream",
     "text": [
      "                                                                                                  \r"
     ]
    },
    {
     "data": {
      "text/html": [
       "<video src=\"media/jupyter/SphereTransformation@2022-12-15@11-32-40.mp4\" controls autoplay loop style=\"max-width: 25vw;\"  >\n",
       "      Your browser does not support the <code>video</code> element.\n",
       "    </video>"
      ],
      "text/plain": [
       "<IPython.core.display.Video object>"
      ]
     },
     "metadata": {},
     "output_type": "display_data"
    }
   ],
   "source": [
    "#@title Transforming a Sphere\n",
    "\n",
    "mat = _rand\n",
    "\n",
    "class SphereTransformation(ThreeDScene):\n",
    "    def construct(self):\n",
    "        ax = ThreeDAxes()\n",
    "        m = Matrix(mat).to_corner(UL)\n",
    "        self.add_fixed_in_frame_mobjects(m)\n",
    "        self.set_camera_orientation(phi=2*PI/5, theta=PI/5)\n",
    "        sphere = Sphere()\n",
    "        self.add(ax, sphere)\n",
    "        self.begin_3dillusion_camera_rotation()\n",
    "        self.play(ApplyMatrix(mat, sphere))\n",
    "        self.wait(duration=3)\n",
    "        \n",
    "%manim -qm -o st -v WARNING SphereTransformation"
   ]
  },
  {
   "cell_type": "code",
   "execution_count": 4,
   "metadata": {
    "id": "SFgLx1-77Rle"
   },
   "outputs": [
    {
     "name": "stderr",
     "output_type": "stream",
     "text": [
      "                                                                                                  \r"
     ]
    },
    {
     "data": {
      "text/html": [
       "<video src=\"media/jupyter/SphereTransformation@2022-12-15@11-33-43.mp4\" controls autoplay loop style=\"max-width: 25vw;\"  >\n",
       "      Your browser does not support the <code>video</code> element.\n",
       "    </video>"
      ],
      "text/plain": [
       "<IPython.core.display.Video object>"
      ]
     },
     "metadata": {},
     "output_type": "display_data"
    }
   ],
   "source": [
    "#@title Diagonal Matrices are Enlargements \n",
    "mat = [[5, 0, 0], [0, 3, 0], [0, 0, 1]]\n",
    "\n",
    "%manim -qm -o ste -v WARNING SphereTransformation"
   ]
  },
  {
   "cell_type": "code",
   "execution_count": 5,
   "metadata": {
    "id": "r0Gh1QH28lCj"
   },
   "outputs": [
    {
     "name": "stderr",
     "output_type": "stream",
     "text": [
      "                                                                                                  \r"
     ]
    },
    {
     "data": {
      "text/html": [
       "<video src=\"media/jupyter/SphereTransformation@2022-12-15@11-34-45.mp4\" controls autoplay loop style=\"max-width: 25vw;\"  >\n",
       "      Your browser does not support the <code>video</code> element.\n",
       "    </video>"
      ],
      "text/plain": [
       "<IPython.core.display.Video object>"
      ]
     },
     "metadata": {},
     "output_type": "display_data"
    }
   ],
   "source": [
    "#@title Orthogonal Matrices are Rotations \n",
    "mat = [[1, 0, 0], [0, 0, -1], [0, 1, 0]]\n",
    "\n",
    "%manim -qm -o sto -v WARNING SphereTransformation"
   ]
  },
  {
   "cell_type": "markdown",
   "metadata": {
    "id": "xBKyATco9eCX",
    "tags": []
   },
   "source": [
    "## Spectral Decomposition\n",
    "\n",
    "> Q: Why are orthogonal and diagonal matrices interesting? (Hint: Spectral Decomposition)\n",
    "\n",
    "Because for all real symmetric matrices $A$, there exists an orthoganal matrix $P$ and diagonal matrix $D$ such that $$A=PDP^\\top$$\n",
    "\n",
    "So all real symmetric matrices can be represented by a rotation, enlargement, and rotation (where the last rotation is the inverse of the first.)"
   ]
  },
  {
   "cell_type": "code",
   "execution_count": 6,
   "metadata": {
    "id": "mT7bbPs-9bWs"
   },
   "outputs": [
    {
     "name": "stderr",
     "output_type": "stream",
     "text": [
      "                                                                                                  \r"
     ]
    },
    {
     "data": {
      "text/html": [
       "<video src=\"media/jupyter/SphereTransformation@2022-12-15@11-35-52.mp4\" controls autoplay loop style=\"max-width: 25vw;\"  >\n",
       "      Your browser does not support the <code>video</code> element.\n",
       "    </video>"
      ],
      "text/plain": [
       "<IPython.core.display.Video object>"
      ]
     },
     "metadata": {},
     "output_type": "display_data"
    }
   ],
   "source": [
    "#@title Visualise Matrix as a Transformation\n",
    "\n",
    "mat = _symm\n",
    "\n",
    "%manim -qm -o svmt -v WARNING SphereTransformation"
   ]
  },
  {
   "cell_type": "code",
   "execution_count": 7,
   "metadata": {
    "colab": {
     "base_uri": "https://localhost:8080/"
    },
    "id": "1e0IFG4XDTxz",
    "outputId": "2ae81f1e-3174-465e-b485-72a735839942"
   },
   "outputs": [
    {
     "name": "stderr",
     "output_type": "stream",
     "text": [
      "                                                                                                                                                                            \r"
     ]
    },
    {
     "data": {
      "text/html": [
       "<video src=\"media/jupyter/SpectralDecomposition@2022-12-15@11-35-56.mp4\" controls autoplay loop style=\"max-width: 25vw;\"  >\n",
       "      Your browser does not support the <code>video</code> element.\n",
       "    </video>"
      ],
      "text/plain": [
       "<IPython.core.display.Video object>"
      ]
     },
     "metadata": {},
     "output_type": "display_data"
    }
   ],
   "source": [
    "#@title Spectral Decomposition\n",
    "\n",
    "mat = _symm\n",
    "\n",
    "labs = [\"A\", \"D\", \"P\", r\"P^\\top\"]\n",
    "\n",
    "class SpectralDecomposition(Scene):\n",
    "    def construct(self):\n",
    "        update(mat)\n",
    "        def mat2str(matrix):\n",
    "            return r\"\\left[\\begin{matrix}\" + r\"\\\\\".join(map(lambda r: \"&\".join(map(lambda e: str(e), r)), matrix)) + r\"\\end{matrix}\\right]\"\n",
    "\n",
    "        m = MathTex(labs[0] + r\"=\" + mat2str(mat)).move_to([-4.5,2.5,0])\n",
    "        t = MathTex(r\"c_A(x)=\" + \"\".join(map(lambda e: \"(\" + str(e) + \" - \" + \"x)\", wS))).next_to(m, buff=1)\n",
    "        d = MathTex(labs[1] + r\"=\" + mat2str(wDS)).move_to([-4,0.5,0])\n",
    "        p = MathTex(labs[2] + r\"=\" + mat2str(vS)).next_to(d, buff=1)\n",
    "        pT = MathTex(labs[3] + r\"=\" + mat2str(vTS)).next_to(p, direction=DOWN, buff=0.5)\n",
    "        \n",
    "        self.add(m)\n",
    "        self.wait()\n",
    "        self.play(Create(t))\n",
    "        self.play(Transform(t.copy(), d), Create(p))\n",
    "        self.play(Transform(p.copy(), pT))\n",
    "        self.wait(duration=3)\n",
    "\n",
    "%manim -qm -o sd -v WARNING SpectralDecomposition"
   ]
  },
  {
   "cell_type": "code",
   "execution_count": 8,
   "metadata": {
    "colab": {
     "base_uri": "https://localhost:8080/"
    },
    "id": "j4rZKckzptHg",
    "outputId": "0fbe1d8f-1c3d-4d31-f927-df7db84f2d5a"
   },
   "outputs": [
    {
     "name": "stderr",
     "output_type": "stream",
     "text": [
      "                                                                                                        \r"
     ]
    },
    {
     "data": {
      "text/html": [
       "<video src=\"media/jupyter/SphereTransformationVectors@2022-12-15@11-37-42.mp4\" controls autoplay loop style=\"max-width: 25vw;\"  >\n",
       "      Your browser does not support the <code>video</code> element.\n",
       "    </video>"
      ],
      "text/plain": [
       "<IPython.core.display.Video object>"
      ]
     },
     "metadata": {},
     "output_type": "display_data"
    }
   ],
   "source": [
    "#@title Transformation of Eigenvectors\n",
    "\n",
    "mat = _symm\n",
    "update(mat)\n",
    "vec = vT\n",
    "vec2 = np.dot(vec, np.transpose(_symm))\n",
    "\n",
    "class SphereTransformationVectors(ThreeDScene):\n",
    "    def construct(self):\n",
    "        ax = ThreeDAxes()\n",
    "        colors = [RED, GREEN, BLUE]\n",
    "        arrs_before = vec2arr(vec, colors)\n",
    "        arrs_after = vec2arr(vec2, colors)\n",
    "        m = Matrix(mat).to_corner(UL)\n",
    "        self.add_fixed_in_frame_mobjects(m)\n",
    "        self.set_camera_orientation(phi=2*PI/5, theta=PI/5)\n",
    "        sphere = Sphere(fill_opacity=0.4)\n",
    "        self.add(ax, sphere)\n",
    "        self.begin_3dillusion_camera_rotation()\n",
    "        self.play(ApplyMatrix(mat, sphere), *list(map(lambda arri: arri[1].animate.become(arrs_after[arri[0]]), enumerate(arrs_before))), run_time=2)\n",
    "        self.wait(duration=3)\n",
    "\n",
    "%manim -qm -o sde -v WARNING SphereTransformationVectors"
   ]
  },
  {
   "cell_type": "markdown",
   "metadata": {},
   "source": [
    "Nice!\n",
    "\n",
    "As we can see, the transformation of a matrix is just an enlargement along its eigenvectors.\n",
    "So we can decompose it into:\n",
    " - Change the basis of the eigenvectors to the identity.\n",
    " - Enlarge by the eigenvalues.\n",
    " - Change the basis back to the eigenvectors.\n",
    " \n",
    "And this is exactly what we see for real-symmetric matrices, where the change of basis is just a rotation."
   ]
  },
  {
   "cell_type": "code",
   "execution_count": 9,
   "metadata": {
    "colab": {
     "base_uri": "https://localhost:8080/"
    },
    "id": "s3SLckUiVoD6",
    "outputId": "7f6bee61-d0c0-45ae-fdab-c2ed3b755187"
   },
   "outputs": [
    {
     "name": "stderr",
     "output_type": "stream",
     "text": [
      "                                                                                   \r"
     ]
    },
    {
     "data": {
      "text/html": [
       "<video src=\"media/jupyter/SphereSpectralDecomposition@2022-12-15@11-42-11.mp4\" controls autoplay loop style=\"max-width: 25vw;\"  >\n",
       "      Your browser does not support the <code>video</code> element.\n",
       "    </video>"
      ],
      "text/plain": [
       "<IPython.core.display.Video object>"
      ]
     },
     "metadata": {},
     "output_type": "display_data"
    }
   ],
   "source": [
    "#@title Transformations of Spectral Decomposition\n",
    "\n",
    "mat = _symm\n",
    "\n",
    "class SphereSpectralDecomposition(ThreeDScene):\n",
    "    def construct(self):\n",
    "        update(mat)\n",
    "        ax = ThreeDAxes()\n",
    "        p = Matrix(vS).to_corner(UL)\n",
    "        d = Matrix(wDS).to_corner(UL)\n",
    "        pT = Matrix(vTS).to_corner(UL)\n",
    "        self.set_camera_orientation(phi=2*PI/5, theta=-PI/5)\n",
    "        sphere = Sphere()\n",
    "        self.add(ax, sphere)\n",
    "        self.begin_3dillusion_camera_rotation()\n",
    "        self.add_fixed_in_frame_mobjects(pT)\n",
    "        self.play(FadeIn(pT), ApplyMatrix(vT, sphere))\n",
    "        self.wait()\n",
    "        self.add_fixed_in_frame_mobjects(d)\n",
    "        self.play(FadeOut(pT), FadeIn(d), ApplyMatrix(wD, sphere))\n",
    "        self.wait()\n",
    "        self.add_fixed_in_frame_mobjects(p)\n",
    "        self.play(FadeOut(d), FadeIn(p), ApplyMatrix(v, sphere))\n",
    "        self.wait(duration=3)\n",
    "        \n",
    "%manim -qm -o sdt -v WARNING SphereSpectralDecomposition"
   ]
  },
  {
   "cell_type": "markdown",
   "metadata": {
    "id": "Lz5sNQYfXtCV",
    "tags": []
   },
   "source": [
    "## Single Value Decomposition\n",
    "\n",
    "So that's cool! However...\n",
    "\n",
    "> Pick any matrix. It's likely to be non-symmetric.\n",
    "\n",
    "... it only works on real symmetric matrices.\n",
    "\n",
    "If only there was a way to decompose any real matrix into a rotation, enlargement, and rotation.\n",
    "\n",
    "There is!\n",
    "\n",
    "We need to find an orthogonal matrix $V$ such that $AV$ has orthogonal vectors, or rather $$AV=U\\Sigma$$ where $\\Sigma$ is diagonal and $U$ is orthogonal.\n",
    "\n",
    "Then we have $$A=U\\Sigma V^\\top$$\n",
    "\n",
    "## A Return to Spectral Decomposition\n",
    "\n",
    "Consider $AA^\\top$.\n",
    "\n",
    "$AA^\\top = (U\\Sigma V^\\top)(U\\Sigma V^\\top)^\\top=(U\\Sigma V^\\top)(V\\Sigma^\\top U^\\top)$\n",
    "\n",
    "So $AA^\\top = U\\Sigma\\Sigma^\\top U^\\top$ because $V^{-1}=V^\\top$\n",
    "\n",
    "> Notice what happened to the dimension.\n",
    "\n",
    "Since $AA^\\top$ is symmetric, we can use spectral decomposition!\n",
    "\n",
    "$U$ is the orthonormal basis of eigenvectors and $\\Sigma\\Sigma^\\top$ is the diagonal matrix of eigenvalues of $AA^\\top$. \n",
    "\n",
    "We can do the same for $A^\\top A$ and find that $V$ is the orthonormal basis of eigenvectors and $\\Sigma^\\top\\Sigma$ is the diagonal matrix of eigenvalues of $A^\\top A$.\n",
    "\n",
    "> So what is $\\Sigma$? We know it's diagonal, right?\n",
    "\n",
    "But $\\Sigma$ is rectangular. Since the non-zero eigenvalues of $A^\\top A$ and $A A^\\top$ are the same, $\\Sigma$ is the **rectangular** diagonal matrix of the roots of the non-zero eigenvalues.\n"
   ]
  },
  {
   "cell_type": "code",
   "execution_count": 10,
   "metadata": {},
   "outputs": [
    {
     "name": "stderr",
     "output_type": "stream",
     "text": [
      "                                                                                                                                     \r"
     ]
    },
    {
     "data": {
      "text/html": [
       "<video src=\"media/jupyter/ShowAATranspose@2022-12-15@11-42-13.mp4\" controls autoplay loop style=\"max-width: 25vw;\"  >\n",
       "      Your browser does not support the <code>video</code> element.\n",
       "    </video>"
      ],
      "text/plain": [
       "<IPython.core.display.Video object>"
      ]
     },
     "metadata": {},
     "output_type": "display_data"
    }
   ],
   "source": [
    "mat = _rect\n",
    "\n",
    "class ShowAATranspose(Scene):\n",
    "    def construct(self):\n",
    "        def mat2str(matrix):\n",
    "            return r\"\\left[\\begin{matrix}\" + r\"\\\\\".join(map(lambda r: \"&\".join(map(lambda e: str(e), r)), matrix)) + r\"\\end{matrix}\\right]\"\n",
    "\n",
    "        m = MathTex(r\"A=\" + mat2str(mat)).move_to([0,2.5,0])\n",
    "        mmt = MathTex(r\"AA^\\top=\" + mat2str(np.dot(mat, np.transpose(mat)))).next_to(m, direction=DOWN+LEFT)\n",
    "        mtm = MathTex(r\"A^\\top A=\" + mat2str(np.dot(np.transpose(mat), mat))).next_to(m, direction=DOWN+RIGHT)\n",
    "        \n",
    "        self.add(m)\n",
    "        self.wait()\n",
    "        self.play(Transform(m.copy(), mmt))\n",
    "        self.play(Transform(m.copy(), mtm))\n",
    "        self.wait(duration=3)\n",
    "        \n",
    "%manim -qm -o aat -v WARNING ShowAATranspose"
   ]
  },
  {
   "cell_type": "code",
   "execution_count": 11,
   "metadata": {},
   "outputs": [
    {
     "name": "stderr",
     "output_type": "stream",
     "text": [
      "                                                                                                                                                \r"
     ]
    },
    {
     "data": {
      "text/html": [
       "<video src=\"media/jupyter/SpectralDecomposition@2022-12-15@11-42-17.mp4\" controls autoplay loop style=\"max-width: 25vw;\"  >\n",
       "      Your browser does not support the <code>video</code> element.\n",
       "    </video>"
      ],
      "text/plain": [
       "<IPython.core.display.Video object>"
      ]
     },
     "metadata": {},
     "output_type": "display_data"
    }
   ],
   "source": [
    "#@title Spectral Decomposition for U\n",
    "\n",
    "mat = np.dot(_rect, np.transpose(_rect))\n",
    "\n",
    "labs = [r\"AA^\\top\", r\"\\Sigma\\Sigma^\\top\", \"U\", r\"U^\\top\"]\n",
    "\n",
    "%manim -qm -o aatu -v WARNING SpectralDecomposition"
   ]
  },
  {
   "cell_type": "code",
   "execution_count": 12,
   "metadata": {},
   "outputs": [
    {
     "name": "stderr",
     "output_type": "stream",
     "text": [
      "                                                                                                                                                                         \r"
     ]
    },
    {
     "data": {
      "text/html": [
       "<video src=\"media/jupyter/SpectralDecomposition@2022-12-15@11-42-23.mp4\" controls autoplay loop style=\"max-width: 25vw;\"  >\n",
       "      Your browser does not support the <code>video</code> element.\n",
       "    </video>"
      ],
      "text/plain": [
       "<IPython.core.display.Video object>"
      ]
     },
     "metadata": {},
     "output_type": "display_data"
    }
   ],
   "source": [
    "#@title Spectral Decomposition for V\n",
    "\n",
    "mat = np.dot(np.transpose(_rect), _rect)\n",
    "\n",
    "labs = [r\"A^\\top A\", r\"\\Sigma^\\top\\Sigma\", \"V\", r\"V^\\top\"]\n",
    "\n",
    "%manim -qm -o aatv -v WARNING SpectralDecomposition"
   ]
  },
  {
   "cell_type": "markdown",
   "metadata": {},
   "source": [
    "> Notice how the non-zero eigenvalues are the same?"
   ]
  },
  {
   "cell_type": "markdown",
   "metadata": {
    "tags": []
   },
   "source": [
    "## But why?\n",
    "\n",
    "If $A$ represents a massive dataset, then the orthogonal basis vectors in $U$ corresponding to the largest eigenvalues is the weighting of each dimension which have the most profound effect on the data. This process is called Principle Component Analysis. "
   ]
  }
 ],
 "metadata": {
  "colab": {
   "include_colab_link": true,
   "provenance": []
  },
  "kernelspec": {
   "display_name": "Python 3 (ipykernel)",
   "language": "python",
   "name": "python3"
  },
  "language_info": {
   "codemirror_mode": {
    "name": "ipython",
    "version": 3
   },
   "file_extension": ".py",
   "mimetype": "text/x-python",
   "name": "python",
   "nbconvert_exporter": "python",
   "pygments_lexer": "ipython3",
   "version": "3.8.11"
  }
 },
 "nbformat": 4,
 "nbformat_minor": 4
}
