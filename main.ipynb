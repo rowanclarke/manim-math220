{
  "nbformat": 4,
  "nbformat_minor": 0,
  "metadata": {
    "colab": {
      "provenance": [],
      "include_colab_link": true
    },
    "kernelspec": {
      "name": "python3",
      "display_name": "Python 3"
    },
    "language_info": {
      "name": "python"
    }
  },
  "cells": [
    {
      "cell_type": "markdown",
      "metadata": {
        "id": "view-in-github",
        "colab_type": "text"
      },
      "source": [
        "<a href=\"https://colab.research.google.com/github/rowanclarke/manim-math220/blob/master/main.ipynb\" target=\"_parent\"><img src=\"https://colab.research.google.com/assets/colab-badge.svg\" alt=\"Open In Colab\"/></a>"
      ]
    },
    {
      "cell_type": "code",
      "source": [
        "#@title Initialise\n",
        "!sudo apt update\n",
        "!sudo apt install libcairo2-dev ffmpeg \\\n",
        "    texlive texlive-latex-extra texlive-fonts-extra \\\n",
        "    texlive-latex-recommended texlive-science \\\n",
        "    tipa libpango1.0-dev\n",
        "!pip install requests==2.26.0\n",
        "!pip install manim\n",
        "!pip install IPython --upgrade\n",
        "\n",
        "from manim import *\n",
        "import numpy as np\n",
        "\n",
        "_vec = [[1, 0, 0], [0, 1, 0], [0, 0, 1]]\n",
        "_rand = [[1, 1, 2], [1, 2, 4], [-1, 0, 1]]\n",
        "_vec2 = np.dot(_vec, np.transpose(_rand))\n",
        "\n",
        "_symm = [[2, 1, 1], [1, 2, 1], [1, 1, 4]]\n",
        "\n",
        "w, v, wD, wS, wDS, vS, vT, vTS = 0\n",
        "def update(m):\n",
        "    w, v = np.linalg.eig(m)\n",
        "    wD = np.diag(w);\n",
        "    def shorten(e):\n",
        "        e3 = round(e, 2)\n",
        "        e = round(e)\n",
        "        if (e == e3):\n",
        "            return e\n",
        "        else:\n",
        "            return e3\n",
        "    wS = list(map(shorten, w))\n",
        "    wDS = np.diag(wS);\n",
        "    vS = list(map(lambda e: list(map(shorten, e)), v))\n",
        "    vT = np.transpose(v)\n",
        "    vTS = list(map(lambda e: list(map(shorten, e)), vT))"
      ],
      "metadata": {
        "id": "pKz02VwNrXjr",
        "colab": {
          "base_uri": "https://localhost:8080/",
          "height": 1000
        },
        "outputId": "70947f06-7ad2-47d9-bf8f-11b229fd9b26",
        "cellView": "form"
      },
      "execution_count": null,
      "outputs": [
        {
          "output_type": "stream",
          "name": "stdout",
          "text": [
            "\u001b[33m\r0% [Working]\u001b[0m\r            \rHit:1 http://security.ubuntu.com/ubuntu bionic-security InRelease\n",
            "\u001b[33m\r0% [Connecting to archive.ubuntu.com (185.125.190.39)] [Connected to cloud.r-pr\u001b[0m\u001b[33m\r0% [1 InRelease gpgv 88.7 kB] [Connecting to archive.ubuntu.com (185.125.190.39\u001b[0m\r                                                                               \rHit:2 https://cloud.r-project.org/bin/linux/ubuntu bionic-cran40/ InRelease\n",
            "\u001b[33m\r0% [1 InRelease gpgv 88.7 kB] [Waiting for headers] [Waiting for headers] [Wait\u001b[0m\r                                                                               \rHit:3 http://ppa.launchpad.net/c2d4u.team/c2d4u4.0+/ubuntu bionic InRelease\n",
            "\u001b[33m\r0% [1 InRelease gpgv 88.7 kB] [Waiting for headers] [Waiting for headers] [Conn\u001b[0m\r                                                                               \rHit:4 http://archive.ubuntu.com/ubuntu bionic InRelease\n",
            "\u001b[33m\r0% [1 InRelease gpgv 88.7 kB] [Waiting for headers] [Waiting for headers] [Conn\u001b[0m\r                                                                               \rIgn:5 https://developer.download.nvidia.com/compute/machine-learning/repos/ubuntu1804/x86_64  InRelease\n",
            "\u001b[33m\r0% [1 InRelease gpgv 88.7 kB] [Waiting for headers] [Waiting for headers] [Conn\u001b[0m\r                                                                               \rHit:6 https://developer.download.nvidia.com/compute/cuda/repos/ubuntu1804/x86_64  InRelease\n",
            "Hit:7 https://developer.download.nvidia.com/compute/machine-learning/repos/ubuntu1804/x86_64  Release\n",
            "Hit:8 http://archive.ubuntu.com/ubuntu bionic-updates InRelease\n",
            "Hit:9 http://ppa.launchpad.net/cran/libgit2/ubuntu bionic InRelease\n",
            "Hit:10 http://archive.ubuntu.com/ubuntu bionic-backports InRelease\n",
            "Hit:11 http://ppa.launchpad.net/deadsnakes/ppa/ubuntu bionic InRelease\n",
            "Hit:13 http://ppa.launchpad.net/graphics-drivers/ppa/ubuntu bionic InRelease\n",
            "Reading package lists... Done\n",
            "Building dependency tree       \n",
            "Reading state information... Done\n",
            "22 packages can be upgraded. Run 'apt list --upgradable' to see them.\n",
            "Reading package lists... Done\n",
            "Building dependency tree       \n",
            "Reading state information... Done\n",
            "texlive-latex-recommended is already the newest version (2017.20180305-1).\n",
            "texlive is already the newest version (2017.20180305-1).\n",
            "texlive-fonts-extra is already the newest version (2017.20180305-2).\n",
            "texlive-latex-extra is already the newest version (2017.20180305-2).\n",
            "texlive-science is already the newest version (2017.20180305-2).\n",
            "tipa is already the newest version (2:1.3-20).\n",
            "libcairo2-dev is already the newest version (1.15.10-2ubuntu0.1).\n",
            "libpango1.0-dev is already the newest version (1.40.14-1ubuntu0.1).\n",
            "ffmpeg is already the newest version (7:3.4.11-0ubuntu0.1).\n",
            "The following package was automatically installed and is no longer required:\n",
            "  libnvidia-common-460\n",
            "Use 'sudo apt autoremove' to remove it.\n",
            "0 upgraded, 0 newly installed, 0 to remove and 22 not upgraded.\n",
            "Looking in indexes: https://pypi.org/simple, https://us-python.pkg.dev/colab-wheels/public/simple/\n",
            "Collecting requests==2.26.0\n",
            "  Downloading requests-2.26.0-py2.py3-none-any.whl (62 kB)\n",
            "\u001b[K     |████████████████████████████████| 62 kB 538 kB/s \n",
            "\u001b[?25hRequirement already satisfied: certifi>=2017.4.17 in /usr/local/lib/python3.8/dist-packages (from requests==2.26.0) (2022.9.24)\n",
            "Collecting charset-normalizer~=2.0.0\n",
            "  Downloading charset_normalizer-2.0.12-py3-none-any.whl (39 kB)\n",
            "Requirement already satisfied: idna<4,>=2.5 in /usr/local/lib/python3.8/dist-packages (from requests==2.26.0) (2.10)\n",
            "Requirement already satisfied: urllib3<1.27,>=1.21.1 in /usr/local/lib/python3.8/dist-packages (from requests==2.26.0) (1.24.3)\n",
            "Installing collected packages: charset-normalizer, requests\n",
            "  Attempting uninstall: charset-normalizer\n",
            "    Found existing installation: charset-normalizer 2.1.1\n",
            "    Uninstalling charset-normalizer-2.1.1:\n",
            "      Successfully uninstalled charset-normalizer-2.1.1\n",
            "  Attempting uninstall: requests\n",
            "    Found existing installation: requests 2.28.1\n",
            "    Uninstalling requests-2.28.1:\n",
            "      Successfully uninstalled requests-2.28.1\n",
            "\u001b[31mERROR: pip's dependency resolver does not currently take into account all the packages that are installed. This behaviour is the source of the following dependency conflicts.\n",
            "google-colab 1.0.0 requires ipython~=7.9.0, but you have ipython 8.7.0 which is incompatible.\u001b[0m\n",
            "Successfully installed charset-normalizer-2.0.12 requests-2.26.0\n",
            "Looking in indexes: https://pypi.org/simple, https://us-python.pkg.dev/colab-wheels/public/simple/\n",
            "Requirement already satisfied: manim in /usr/local/lib/python3.8/dist-packages (0.17.1)\n",
            "Requirement already satisfied: decorator<6.0.0,>=5.0.7 in /usr/local/lib/python3.8/dist-packages (from manim) (5.0.7)\n",
            "Requirement already satisfied: numpy<2.0,>=1.19 in /usr/local/lib/python3.8/dist-packages (from manim) (1.21.6)\n",
            "Requirement already satisfied: tqdm<5.0.0,>=4.62.3 in /usr/local/lib/python3.8/dist-packages (from manim) (4.64.1)\n",
            "Requirement already satisfied: isosurfaces==0.1.0 in /usr/local/lib/python3.8/dist-packages (from manim) (0.1.0)\n",
            "Requirement already satisfied: watchdog<3.0.0,>=2.1.6 in /usr/local/lib/python3.8/dist-packages (from manim) (2.2.0)\n",
            "Requirement already satisfied: mapbox-earcut<2.0.0,>=1.0.0 in /usr/local/lib/python3.8/dist-packages (from manim) (1.0.1)\n",
            "Requirement already satisfied: click<=9.0,>=7.2 in /usr/local/lib/python3.8/dist-packages (from manim) (8.1.3)\n",
            "Requirement already satisfied: scipy<2.0.0,>=1.7.3 in /usr/local/lib/python3.8/dist-packages (from manim) (1.7.3)\n",
            "Requirement already satisfied: networkx<3.0,>=2.5 in /usr/local/lib/python3.8/dist-packages (from manim) (2.8.8)\n",
            "Requirement already satisfied: moderngl-window<3.0.0,>=2.3.0 in /usr/local/lib/python3.8/dist-packages (from manim) (2.4.2)\n",
            "Requirement already satisfied: srt<4.0.0,>=3.5.0 in /usr/local/lib/python3.8/dist-packages (from manim) (3.5.2)\n",
            "Requirement already satisfied: pycairo<2.0,>=1.21 in /usr/local/lib/python3.8/dist-packages (from manim) (1.23.0)\n",
            "Requirement already satisfied: moderngl<6.0.0,>=5.6.3 in /usr/local/lib/python3.8/dist-packages (from manim) (5.7.4)\n",
            "Requirement already satisfied: svgelements<2.0.0,>=1.8.0 in /usr/local/lib/python3.8/dist-packages (from manim) (1.9.0)\n",
            "Requirement already satisfied: rich!=12.0.0,>=6.0 in /usr/local/lib/python3.8/dist-packages (from manim) (12.6.0)\n",
            "Requirement already satisfied: screeninfo<0.9,>=0.8 in /usr/local/lib/python3.8/dist-packages (from manim) (0.8.1)\n",
            "Requirement already satisfied: pydub<0.26.0,>=0.25.1 in /usr/local/lib/python3.8/dist-packages (from manim) (0.25.1)\n",
            "Requirement already satisfied: requests<3.0.0,>=2.26.0 in /usr/local/lib/python3.8/dist-packages (from manim) (2.26.0)\n",
            "Requirement already satisfied: cloup<0.14.0,>=0.13.0 in /usr/local/lib/python3.8/dist-packages (from manim) (0.13.1)\n",
            "Requirement already satisfied: manimpango<0.5.0,>=0.4.0.post0 in /usr/local/lib/python3.8/dist-packages (from manim) (0.4.3)\n",
            "Requirement already satisfied: Pygments<3.0.0,>=2.10.0 in /usr/local/lib/python3.8/dist-packages (from manim) (2.13.0)\n",
            "Requirement already satisfied: colour<0.2.0,>=0.1.5 in /usr/local/lib/python3.8/dist-packages (from manim) (0.1.5)\n",
            "Requirement already satisfied: skia-pathops<0.8.0,>=0.7.0 in /usr/local/lib/python3.8/dist-packages (from manim) (0.7.4)\n",
            "Requirement already satisfied: click-default-group<2.0.0,>=1.2.2 in /usr/local/lib/python3.8/dist-packages (from manim) (1.2.2)\n",
            "Requirement already satisfied: Pillow<10.0,>=9.1 in /usr/local/lib/python3.8/dist-packages (from manim) (9.3.0)\n",
            "Requirement already satisfied: typing-extensions in /usr/local/lib/python3.8/dist-packages (from cloup<0.14.0,>=0.13.0->manim) (4.4.0)\n",
            "Requirement already satisfied: glcontext<3,>=2.3.6 in /usr/local/lib/python3.8/dist-packages (from moderngl<6.0.0,>=5.6.3->manim) (2.3.7)\n",
            "Requirement already satisfied: pyrr<1,>=0.10.3 in /usr/local/lib/python3.8/dist-packages (from moderngl-window<3.0.0,>=2.3.0->manim) (0.10.3)\n",
            "Requirement already satisfied: pyglet>=2.0dev23 in /usr/local/lib/python3.8/dist-packages (from moderngl-window<3.0.0,>=2.3.0->manim) (2.0.1)\n",
            "Requirement already satisfied: multipledispatch in /usr/local/lib/python3.8/dist-packages (from pyrr<1,>=0.10.3->moderngl-window<3.0.0,>=2.3.0->manim) (0.6.0)\n",
            "Requirement already satisfied: idna<4,>=2.5 in /usr/local/lib/python3.8/dist-packages (from requests<3.0.0,>=2.26.0->manim) (2.10)\n",
            "Requirement already satisfied: certifi>=2017.4.17 in /usr/local/lib/python3.8/dist-packages (from requests<3.0.0,>=2.26.0->manim) (2022.9.24)\n",
            "Requirement already satisfied: urllib3<1.27,>=1.21.1 in /usr/local/lib/python3.8/dist-packages (from requests<3.0.0,>=2.26.0->manim) (1.24.3)\n",
            "Requirement already satisfied: charset-normalizer~=2.0.0 in /usr/local/lib/python3.8/dist-packages (from requests<3.0.0,>=2.26.0->manim) (2.0.12)\n",
            "Requirement already satisfied: commonmark<0.10.0,>=0.9.0 in /usr/local/lib/python3.8/dist-packages (from rich!=12.0.0,>=6.0->manim) (0.9.1)\n",
            "Requirement already satisfied: six in /usr/local/lib/python3.8/dist-packages (from multipledispatch->pyrr<1,>=0.10.3->moderngl-window<3.0.0,>=2.3.0->manim) (1.15.0)\n",
            "Looking in indexes: https://pypi.org/simple, https://us-python.pkg.dev/colab-wheels/public/simple/\n",
            "Requirement already satisfied: IPython in /usr/local/lib/python3.8/dist-packages (8.7.0)\n",
            "Requirement already satisfied: decorator in /usr/local/lib/python3.8/dist-packages (from IPython) (5.0.7)\n",
            "Requirement already satisfied: pexpect>4.3 in /usr/local/lib/python3.8/dist-packages (from IPython) (4.8.0)\n",
            "Requirement already satisfied: stack-data in /usr/local/lib/python3.8/dist-packages (from IPython) (0.6.2)\n",
            "Requirement already satisfied: pygments>=2.4.0 in /usr/local/lib/python3.8/dist-packages (from IPython) (2.13.0)\n",
            "Requirement already satisfied: pickleshare in /usr/local/lib/python3.8/dist-packages (from IPython) (0.7.5)\n",
            "Requirement already satisfied: traitlets>=5 in /usr/local/lib/python3.8/dist-packages (from IPython) (5.6.0)\n",
            "Requirement already satisfied: prompt-toolkit<3.1.0,>=3.0.11 in /usr/local/lib/python3.8/dist-packages (from IPython) (3.0.36)\n",
            "Requirement already satisfied: matplotlib-inline in /usr/local/lib/python3.8/dist-packages (from IPython) (0.1.6)\n",
            "Requirement already satisfied: jedi>=0.16 in /usr/local/lib/python3.8/dist-packages (from IPython) (0.18.2)\n",
            "Requirement already satisfied: backcall in /usr/local/lib/python3.8/dist-packages (from IPython) (0.2.0)\n",
            "Requirement already satisfied: parso<0.9.0,>=0.8.0 in /usr/local/lib/python3.8/dist-packages (from jedi>=0.16->IPython) (0.8.3)\n",
            "Requirement already satisfied: ptyprocess>=0.5 in /usr/local/lib/python3.8/dist-packages (from pexpect>4.3->IPython) (0.7.0)\n",
            "Requirement already satisfied: wcwidth in /usr/local/lib/python3.8/dist-packages (from prompt-toolkit<3.1.0,>=3.0.11->IPython) (0.2.5)\n",
            "Requirement already satisfied: asttokens>=2.1.0 in /usr/local/lib/python3.8/dist-packages (from stack-data->IPython) (2.2.1)\n",
            "Requirement already satisfied: executing>=1.2.0 in /usr/local/lib/python3.8/dist-packages (from stack-data->IPython) (1.2.0)\n",
            "Requirement already satisfied: pure-eval in /usr/local/lib/python3.8/dist-packages (from stack-data->IPython) (0.2.2)\n",
            "Requirement already satisfied: six in /usr/local/lib/python3.8/dist-packages (from asttokens>=2.1.0->stack-data->IPython) (1.15.0)\n"
          ]
        },
        {
          "output_type": "display_data",
          "data": {
            "text/plain": [
              "Manim Community \u001b[32mv0.\u001b[0m\u001b[32m17.1\u001b[0m\n",
              "\n"
            ],
            "text/html": [
              "<pre style=\"white-space:pre;overflow-x:auto;line-height:normal;font-family:Menlo,'DejaVu Sans Mono',consolas,'Courier New',monospace\">Manim Community <span style=\"color: #008000; text-decoration-color: #008000\">v0.17.1</span>\n",
              "\n",
              "</pre>\n"
            ]
          },
          "metadata": {}
        },
        {
          "output_type": "error",
          "ename": "TypeError",
          "evalue": "ignored",
          "traceback": [
            "\u001b[0;31m---------------------------------------------------------------------------\u001b[0m",
            "\u001b[0;31mTypeError\u001b[0m                                 Traceback (most recent call last)",
            "Cell \u001b[0;32mIn[1], line 17\u001b[0m\n\u001b[1;32m     13\u001b[0m _vec2 \u001b[38;5;241m=\u001b[39m np\u001b[38;5;241m.\u001b[39mdot(_vec, np\u001b[38;5;241m.\u001b[39mtranspose(_rand))\n\u001b[1;32m     15\u001b[0m _symm \u001b[38;5;241m=\u001b[39m [[\u001b[38;5;241m2\u001b[39m, \u001b[38;5;241m1\u001b[39m, \u001b[38;5;241m1\u001b[39m], [\u001b[38;5;241m1\u001b[39m, \u001b[38;5;241m2\u001b[39m, \u001b[38;5;241m1\u001b[39m], [\u001b[38;5;241m1\u001b[39m, \u001b[38;5;241m1\u001b[39m, \u001b[38;5;241m4\u001b[39m]]\n\u001b[0;32m---> 17\u001b[0m w, v, wD, wS, wDS, vS, vT, vTS \u001b[38;5;241m=\u001b[39m \u001b[38;5;241m0\u001b[39m\n\u001b[1;32m     18\u001b[0m \u001b[38;5;28;01mdef\u001b[39;00m \u001b[38;5;21mupdate\u001b[39m(m):\n\u001b[1;32m     19\u001b[0m     w, v \u001b[38;5;241m=\u001b[39m np\u001b[38;5;241m.\u001b[39mlinalg\u001b[38;5;241m.\u001b[39meig(m)\n",
            "\u001b[0;31mTypeError\u001b[0m: cannot unpack non-iterable int object"
          ]
        }
      ]
    },
    {
      "cell_type": "markdown",
      "source": [
        "# Spectral Decomposition and Single Value Decomposition\n",
        "\n",
        "by Rowan Clarke, Aditi Dhillon, Alessandro Curioni, Ethan Darbyshire, Jonathan Baccari"
      ],
      "metadata": {
        "id": "ul0-7ENs7b-P"
      }
    },
    {
      "cell_type": "markdown",
      "source": [
        "## Transformations\n",
        "\n",
        "We can visualise matrices by thier transformations on the identity."
      ],
      "metadata": {
        "id": "pLum-CAWk4rL"
      }
    },
    {
      "cell_type": "code",
      "source": [
        "#@title Visualise Matrix as a Transformation\n",
        "%%manim -ql -v WARNING VectorTransformation\n",
        "\n",
        "mat = _rand\n",
        "vec = _vec\n",
        "vec2 = _vec2\n",
        "\n",
        "class VectorTransformation(ThreeDScene):\n",
        "    def construct(self):\n",
        "        ax = ThreeDAxes()\n",
        "        colors = [RED, GREEN, BLUE]\n",
        "        def vec2arr(v):\n",
        "            return list(map(lambda e:\n",
        "                    Arrow3D(\n",
        "                        start=np.array([0, 0, 0]),\n",
        "                        end=np.array(e),\n",
        "                        resolution=8)\n",
        "                    , v))\n",
        "        arrs_before = vec2arr(vec)\n",
        "        arrs_after = vec2arr(vec2)\n",
        "        m = Matrix(mat).to_corner(UL)\n",
        "        self.add_fixed_in_frame_mobjects(m)\n",
        "        self.set_camera_orientation(phi=2*PI/5, theta=-PI/5)\n",
        "        self.add(ax, *arrs_before)\n",
        "        self.begin_3dillusion_camera_rotation()\n",
        "        self.play(Create(m))\n",
        "        self.play(m.animate.set_column_colors(*colors), *list(map(lambda arri: arri[1].animate.set_color(colors[arri[0]]), enumerate(arrs_before))))\n",
        "        self.wait()\n",
        "        self.play(*list(map(lambda arri: arri[1].animate.become(arrs_after[arri[0]]), enumerate(arrs_before))))\n",
        "        self.wait(duration=3)\n",
        "        "
      ],
      "metadata": {
        "id": "dqmICjw4rx3N"
      },
      "execution_count": null,
      "outputs": []
    },
    {
      "cell_type": "code",
      "source": [
        "#@title Transforming a Sphere\n",
        "%%manim -ql -v WARNING SphereTransformation\n",
        "\n",
        "mat = _rand\n",
        "\n",
        "class SphereTransformation(ThreeDScene):\n",
        "    def construct(self):\n",
        "        ax = ThreeDAxes()\n",
        "        m = Matrix(mat).to_corner(UL)\n",
        "        self.add_fixed_in_frame_mobjects(m)\n",
        "        self.set_camera_orientation(phi=2*PI/5, theta=PI/5)\n",
        "        sphere = Sphere()\n",
        "        self.add(ax, sphere)\n",
        "        self.begin_3dillusion_camera_rotation()\n",
        "        self.play(ApplyMatrix(mat, sphere))\n",
        "        self.wait(duration=3)"
      ],
      "metadata": {
        "id": "8YScFz7IyjWr"
      },
      "execution_count": null,
      "outputs": []
    },
    {
      "cell_type": "code",
      "source": [
        "#@title Diagonal Matrices are Enlargements \n",
        "mat = [[5, 0, 0], [0, 3, 0], [0, 0, 1]]\n",
        "\n",
        "%manim -ql -v WARNING SphereTransformation"
      ],
      "metadata": {
        "id": "SFgLx1-77Rle"
      },
      "execution_count": null,
      "outputs": []
    },
    {
      "cell_type": "code",
      "source": [
        "#@title Orthogonal Matrices are Rotations \n",
        "mat = [[1, 0, 0], [0, 0, -1], [0, 1, 0]]\n",
        "\n",
        "%manim -ql -v WARNING SphereTransformation"
      ],
      "metadata": {
        "id": "r0Gh1QH28lCj"
      },
      "execution_count": null,
      "outputs": []
    },
    {
      "cell_type": "markdown",
      "source": [
        "## Spectral Decomposition\n",
        "\n",
        "> Q: Why are orthogonal and diagonal matrices interesting? (Hint: Spectral Decomposition)\n",
        "\n",
        "Because for all real symmetric matrices $A$, there exists an orthoganal matrix $P$ and diagonal matrix $D$ such that $$A=PDP^\\top$$\n",
        "\n",
        "So all real symmetric matrices can be represented by a rotation, enlargement, and rotation (where the last rotation is the inverse of the first.)"
      ],
      "metadata": {
        "id": "xBKyATco9eCX"
      }
    },
    {
      "cell_type": "code",
      "source": [
        "#@title Transformation of a Real Symmetric Matrix\n",
        "\n",
        "mat = _symm\n",
        "\n",
        "%manim -ql -v WARNING SphereTransformation"
      ],
      "metadata": {
        "id": "mT7bbPs-9bWs"
      },
      "execution_count": null,
      "outputs": []
    },
    {
      "cell_type": "code",
      "source": [
        "#@title Spectral Decomposition\n",
        "%%manim -ql -v WARNING SpectralDecomposition\n",
        "\n",
        "mat = _symm\n",
        "\n",
        "class SpectralDecomposition(Scene):\n",
        "    def construct(self):\n",
        "        update(mat)\n",
        "        def mat2str(matrix):\n",
        "            return r\"\\left[\\begin{matrix}\" + r\"\\\\\".join(map(lambda r: \"&\".join(map(lambda e: str(e), r)), matrix)) + r\"\\end{matrix}\\right]\"\n",
        "\n",
        "        m = MathTex(r\"A=\" + mat2str(mat)).move_to([-5,2.5,0])\n",
        "        t = MathTex(r\"c_A(x)=\" + \"\".join(map(lambda e: \"(\" + str(e) + \" - \" + \"x)\", wS))).next_to(m, buff=1)\n",
        "        d = MathTex(r\"D=\" + mat2str(wDS)).next_to(m, direction=DOWN, buff=0.5)\n",
        "        p = MathTex(r\"P=\" + mat2str(vS)).next_to(d, buff=1)\n",
        "        pT = MathTex(r\"P^\\top=\" + mat2str(vTS)).next_to(p, direction=DOWN, buff=0.5)\n",
        "        \n",
        "        self.add(m)\n",
        "        self.wait()\n",
        "        self.play(Create(t))\n",
        "        self.play(Transform(t.copy(), d), Create(p))\n",
        "        self.play(Transform(p.copy(), pT))\n",
        "        self.wait(duration=3)"
      ],
      "metadata": {
        "id": "1e0IFG4XDTxz",
        "colab": {
          "base_uri": "https://localhost:8080/"
        },
        "outputId": "2ae81f1e-3174-465e-b485-72a735839942"
      },
      "execution_count": null,
      "outputs": [
        {
          "output_type": "stream",
          "name": "stderr",
          "text": [
            "UsageError: Cell magic `%%manim` not found.\n"
          ]
        }
      ]
    },
    {
      "cell_type": "code",
      "source": [
        "#@title Transformation of Eigenvectors\n",
        "\n",
        "%%manim -ql -v WARNING SphereTransformationVectors\n",
        "\n",
        "mat = _symm\n",
        "update(mat)\n",
        "vec = _vec\n",
        "vec2 = _vec2\n",
        "\n",
        "class SphereTransformationVectors(ThreeDScene):\n",
        "    def construct(self):\n",
        "        ax = ThreeDAxes()\n",
        "        colors = [RED, GREEN, BLUE]\n",
        "        arrs_before = list(map(lambda e:\n",
        "                    Arrow3D(\n",
        "                        start=np.array([0, 0, 0]),\n",
        "                        end=np.array(e),\n",
        "                        resolution=8)\n",
        "                    , vT))\n",
        "        arrs_after = list(map(lambda ie:\n",
        "                    Arrow3D(\n",
        "                        color=colors[ie[0]],\n",
        "                        start=np.array([0, 0, 0]),\n",
        "                        end=np.array(ie[1]),\n",
        "                        resolution=8)\n",
        "                    , np.transpose(np.dot(mat, v)) ))\n",
        "        m = Matrix(mat).to_corner(UL)\n",
        "        self.add_fixed_in_frame_mobjects(m)\n",
        "        self.set_camera_orientation(phi=2*PI/5, theta=PI/5)\n",
        "        sphere = Sphere(fill_opacity=0.4)\n",
        "        self.add(ax, sphere)\n",
        "        self.begin_3dillusion_camera_rotation()\n",
        "        self.play(ApplyMatrix(mat, sphere))\n",
        "        #self.wait(duration=3)"
      ],
      "metadata": {
        "id": "j4rZKckzptHg",
        "colab": {
          "base_uri": "https://localhost:8080/"
        },
        "outputId": "0fbe1d8f-1c3d-4d31-f927-df7db84f2d5a"
      },
      "execution_count": null,
      "outputs": [
        {
          "output_type": "stream",
          "name": "stderr",
          "text": [
            "UsageError: Cell magic `%%manim` not found.\n"
          ]
        }
      ]
    },
    {
      "cell_type": "code",
      "source": [
        "#@title Transformations of Spectral Decomposition\n",
        "%%manim -ql -v WARNING SphereSpectralDecomposition\n",
        "\n",
        "mat = _symm\n",
        "\n",
        "class SphereSpectralDecomposition(ThreeDScene):\n",
        "    def construct(self):\n",
        "        update(mat)\n",
        "        ax = ThreeDAxes()\n",
        "        p = Matrix(vS).to_corner(UL)\n",
        "        d = Matrix(wDS).to_corner(UL)\n",
        "        pT = Matrix(vTS).to_corner(UL)\n",
        "        self.set_camera_orientation(phi=2*PI/5, theta=-PI/5)\n",
        "        sphere = Sphere()\n",
        "        self.add(ax, sphere)\n",
        "        self.begin_3dillusion_camera_rotation()\n",
        "        self.add_fixed_in_frame_mobjects(pT)\n",
        "        self.play(FadeIn(pT), ApplyMatrix(vT, sphere))\n",
        "        self.wait()\n",
        "        self.add_fixed_in_frame_mobjects(d)\n",
        "        self.play(FadeOut(pT), FadeIn(d), ApplyMatrix(wD, sphere))\n",
        "        self.wait()\n",
        "        self.add_fixed_in_frame_mobjects(p)\n",
        "        self.play(FadeOut(d), FadeIn(p), ApplyMatrix(v, sphere))\n",
        "        self.wait(duration=3)"
      ],
      "metadata": {
        "id": "s3SLckUiVoD6",
        "colab": {
          "base_uri": "https://localhost:8080/"
        },
        "outputId": "7f6bee61-d0c0-45ae-fdab-c2ed3b755187"
      },
      "execution_count": null,
      "outputs": [
        {
          "output_type": "stream",
          "name": "stderr",
          "text": [
            "UsageError: Cell magic `%%manim` not found.\n"
          ]
        }
      ]
    },
    {
      "cell_type": "markdown",
      "source": [
        "## Single Value Decomposition\n",
        "\n",
        "So that's cool! However...\n",
        "\n",
        "> Pick any matrix. It's likely to be non-symmetric.\n",
        "\n",
        "... it only works on real symmetric matrices.\n",
        "\n",
        "If only there was a way to decompose any real matrix into a rotation, enlargement, and rotation.\n",
        "\n",
        "There is!\n",
        "\n",
        "We need to find an orthogonal matrix $V$ such that $AV$ has orthogonal vectors, or rather $$AV=U\\Sigma$$ where $\\Sigma$ is diagonal and $U$ is orthogonal.\n",
        "\n",
        "Then we have $$A=U\\Sigma V^\\top$$\n",
        "\n",
        "## A Return to Spectral Decomposition\n",
        "\n",
        "Consider $AA^\\top$.\n",
        "\n",
        "$AA^\\top = (U\\Sigma V^\\top)(U\\Sigma V^\\top)^\\top=(U\\Sigma V^\\top)(V\\Sigma^\\top U^\\top)$\n",
        "\n",
        "So $AA^\\top = U\\Sigma\\Sigma^\\top U^\\top$ because $V^{-1}=V^\\top$\n",
        "\n",
        "> Notice what happened to the dimension.\n",
        "\n",
        "Since $AA^\\top$ is symmetric, we can use spectral decomposition!\n",
        "\n",
        "$U$ is the orthonormal basis of eigenvectors and $\\Sigma\\Sigma^\\top$ is the diagonal matrix of eigenvalues of $AA^\\top$. \n",
        "\n",
        "We can do the same for $A^\\top A$ and find that $V$ is the orthonormal basis of eigenvectors and $\\Sigma^\\top\\Sigma$ is the diagonal matrix of eigenvalues of $A^\\top A$.\n",
        "\n",
        "> So what is $\\Sigma$? We know it's diagonal, right?\n",
        "\n",
        "But $\\Sigma$ is rectangular. Since the non-zero eigenvalues of $A^\\top A$ and $A A^\\top$ are the same, $\\Sigma$ is the **rectangular** diagonal matrix root of non-zero eigenvalues.\n",
        "\n",
        "## But why?\n",
        "\n",
        "If $A$ represents a massive dataset, then the orthogonal basis vectors in $U$ corresponding to the largest eigenvalues is the weighting of each dimension which have the most profound effect on the data. This process is called Principle Component Analysis. "
      ],
      "metadata": {
        "id": "Lz5sNQYfXtCV"
      }
    }
  ]
}