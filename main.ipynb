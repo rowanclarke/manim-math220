{
 "cells": [
  {
   "cell_type": "code",
   "execution_count": 1,
   "metadata": {
    "cellView": "form",
    "colab": {
     "base_uri": "https://localhost:8080/",
     "height": 1000
    },
    "id": "pKz02VwNrXjr",
    "outputId": "70947f06-7ad2-47d9-bf8f-11b229fd9b26"
   },
   "outputs": [
    {
     "data": {
      "text/html": [
       "<pre style=\"white-space:pre;overflow-x:auto;line-height:normal;font-family:Menlo,'DejaVu Sans Mono',consolas,'Courier New',monospace\">Manim Community <span style=\"color: #008000; text-decoration-color: #008000\">v0.9.0</span>\n",
       "\n",
       "</pre>\n"
      ],
      "text/plain": [
       "Manim Community \u001b[32mv0.\u001b[0m\u001b[32m9.0\u001b[0m\n",
       "\n"
      ]
     },
     "metadata": {},
     "output_type": "display_data"
    }
   ],
   "source": [
    "#@title Initialise\n",
    "from manim import *\n",
    "import numpy as np\n",
    "\n",
    "_vec = [[1, 0, 0], [0, 1, 0], [0, 0, 1]]\n",
    "_rand = [[1, 1, 2], [1, 2, 4], [-1, 0, 1]]\n",
    "_vec2 = np.dot(_vec, np.transpose(_rand))\n",
    "_rect = [[1, 1, 2],[1, 2, 4]]\n",
    "\n",
    "_symm = [[2, 1, 1], [1, 2, 1], [1, 1, 4]]\n",
    "\n",
    "def update(m):\n",
    "    global w, v, wD, wS, wDS, vS, vT, vTS\n",
    "    w, v = np.linalg.eig(m)\n",
    "    wD = np.diag(w);\n",
    "    def shorten(e):\n",
    "        e3 = round(e, 2)\n",
    "        e = round(e)\n",
    "        if (e == e3):\n",
    "            return e\n",
    "        else:\n",
    "            return e3\n",
    "    wS = list(map(shorten, w))\n",
    "    wDS = np.diag(wS);\n",
    "    vS = list(map(lambda e: list(map(shorten, e)), v))\n",
    "    vT = np.transpose(v)\n",
    "    vTS = list(map(lambda e: list(map(shorten, e)), vT))\n",
    "    \n",
    "def vec2arr(v, colors=[None, None, None]):\n",
    "    return list(map(lambda ie:\n",
    "            Arrow3D(\n",
    "                color=colors[ie[0]],\n",
    "                start=np.array([0, 0, 0]),\n",
    "                end=np.array(ie[1]),\n",
    "                resolution=8)\n",
    "            , enumerate(v)))"
   ]
  },
  {
   "cell_type": "markdown",
   "metadata": {
    "id": "ul0-7ENs7b-P"
   },
   "source": [
    "# Spectral Decomposition and Single Value Decomposition\n",
    "\n",
    "by Rowan Clarke, Aditi Dhillon, Alessandro Curioni, Ethan Darbyshire, Jonathan Baccari"
   ]
  },
  {
   "cell_type": "markdown",
   "metadata": {
    "id": "pLum-CAWk4rL",
    "tags": []
   },
   "source": [
    "## Transformations\n",
    "\n",
    "We can visualise matrices by thier transformations on the identity."
   ]
  },
  {
   "cell_type": "code",
   "execution_count": 2,
   "metadata": {
    "id": "dqmICjw4rx3N"
   },
   "outputs": [
    {
     "name": "stderr",
     "output_type": "stream",
     "text": [
      "                                                                                                               \r"
     ]
    },
    {
     "data": {
      "text/html": [
       "<video src=\"media/jupyter/VectorTransformation@2022-12-15@11-31-36.mp4\" controls autoplay loop style=\"max-width: 25vw;\"  >\n",
       "      Your browser does not support the <code>video</code> element.\n",
       "    </video>"
      ],
      "text/plain": [
       "<IPython.core.display.Video object>"
      ]
     },
     "metadata": {},
     "output_type": "display_data"
    }
   ],
   "source": [
    "#@title Visualise Matrix as a Transformation\n",
    "\n",
    "mat = _rand\n",
    "vec = _vec\n",
    "vec2 = _vec2\n",
    "\n",
    "class VectorTransformation(ThreeDScene):\n",
    "    def construct(self):\n",
    "        ax = ThreeDAxes()\n",
    "        colors = [RED, GREEN, BLUE]\n",
    "        arrs_before = vec2arr(vec)\n",
    "        arrs_after = vec2arr(vec2, colors)\n",
    "        m = Matrix(mat).to_corner(UL)\n",
    "        self.add_fixed_in_frame_mobjects(m)\n",
    "        self.set_camera_orientation(phi=2*PI/5, theta=-PI/5)\n",
    "        self.add(ax, *arrs_before)\n",
    "        self.begin_3dillusion_camera_rotation()\n",
    "        self.play(Create(m))\n",
    "        self.play(m.animate.set_column_colors(*colors), *list(map(lambda arri: arri[1].animate.set_color(colors[arri[0]]), enumerate(arrs_before))))\n",
    "        self.wait()\n",
    "        self.play(*list(map(lambda arri: arri[1].animate.become(arrs_after[arri[0]]), enumerate(arrs_before))))\n",
    "        self.wait(duration=3)\n",
    "        \n",
    "%manim -qm -o vmt -v WARNING VectorTransformation"
   ]
  },
  {
   "cell_type": "code",
   "execution_count": 3,
   "metadata": {
    "id": "8YScFz7IyjWr"
   },
   "outputs": [
    {
     "name": "stderr",
     "output_type": "stream",
     "text": [
      "                                                                                                  \r"
     ]
    },
    {
     "data": {
      "text/html": [
       "<video src=\"media/jupyter/SphereTransformation@2022-12-15@11-32-40.mp4\" controls autoplay loop style=\"max-width: 25vw;\"  >\n",
       "      Your browser does not support the <code>video</code> element.\n",
       "    </video>"
      ],
      "text/plain": [
       "<IPython.core.display.Video object>"
      ]
     },
     "metadata": {},
     "output_type": "display_data"
    }
   ],
   "source": [
    "#@title Transforming a Sphere\n",
    "\n",
    "mat = _rand\n",
    "\n",
    "class SphereTransformation(ThreeDScene):\n",
    "    def construct(self):\n",
    "        ax = ThreeDAxes()\n",
    "        m = Matrix(mat).to_corner(UL)\n",
    "        self.add_fixed_in_frame_mobjects(m)\n",
    "        self.set_camera_orientation(phi=2*PI/5, theta=PI/5)\n",
    "        sphere = Sphere()\n",
    "        self.add(ax, sphere)\n",
    "        self.begin_3dillusion_camera_rotation()\n",
    "        self.play(ApplyMatrix(mat, sphere))\n",
    "        self.wait(duration=3)\n",
    "        \n",
    "%manim -qm -o st -v WARNING SphereTransformation"
   ]
  },
  {
   "cell_type": "code",
   "execution_count": 4,
   "metadata": {
    "id": "SFgLx1-77Rle"
   },
   "outputs": [
    {
     "name": "stderr",
     "output_type": "stream",
     "text": [
      "                                                                                                  \r"
     ]
    },
    {
     "data": {
      "text/html": [
       "<video src=\"media/jupyter/SphereTransformation@2022-12-15@11-33-43.mp4\" controls autoplay loop style=\"max-width: 25vw;\"  >\n",
       "      Your browser does not support the <code>video</code> element.\n",
       "    </video>"
      ],
      "text/plain": [
       "<IPython.core.display.Video object>"
      ]
     },
     "metadata": {},
     "output_type": "display_data"
    }
   ],
   "source": [
    "#@title Diagonal Matrices are Enlargements \n",
    "mat = [[5, 0, 0], [0, 3, 0], [0, 0, 1]]\n",
    "\n",
    "%manim -qm -o ste -v WARNING SphereTransformation"
   ]
  },
  {
   "cell_type": "code",
   "execution_count": 5,
   "metadata": {
    "id": "r0Gh1QH28lCj"
   },
   "outputs": [
    {
     "name": "stderr",
     "output_type": "stream",
     "text": [
      "                                                                                                  \r"
     ]
    },
    {
     "data": {
      "text/html": [
       "<video src=\"media/jupyter/SphereTransformation@2022-12-15@11-34-45.mp4\" controls autoplay loop style=\"max-width: 25vw;\"  >\n",
       "      Your browser does not support the <code>video</code> element.\n",
       "    </video>"
      ],
      "text/plain": [
       "<IPython.core.display.Video object>"
      ]
     },
     "metadata": {},
     "output_type": "display_data"
    }
   ],
   "source": [
    "#@title Orthogonal Matrices are Rotations \n",
    "mat = [[1, 0, 0], [0, 0, -1], [0, 1, 0]]\n",
    "\n",
    "%manim -qm -o sto -v WARNING SphereTransformation"
   ]
  },
  {
   "cell_type": "markdown",
   "metadata": {
    "id": "xBKyATco9eCX",
    "tags": []
   },
   "source": [
    "## Spectral Decomposition\n",
    "\n",
    "> Q: Why are orthogonal and diagonal matrices interesting? (Hint: Spectral Decomposition)\n",
    "\n",
    "Because for all real symmetric matrices $A$, there exists an orthoganal matrix $P$ and diagonal matrix $D$ such that $$A=PDP^\\top$$\n",
    "\n",
    "So all real symmetric matrices can be represented by a rotation, enlargement, and rotation (where the last rotation is the inverse of the first.)"
   ]
  },
  {
   "cell_type": "code",
   "execution_count": 6,
   "metadata": {
    "id": "mT7bbPs-9bWs"
   },
   "outputs": [
    {
     "name": "stderr",
     "output_type": "stream",
     "text": [
      "                                                                                                  \r"
     ]
    },
    {
     "data": {
      "text/html": [
       "<video src=\"media/jupyter/SphereTransformation@2022-12-15@11-35-52.mp4\" controls autoplay loop style=\"max-width: 25vw;\"  >\n",
       "      Your browser does not support the <code>video</code> element.\n",
       "    </video>"
      ],
      "text/plain": [
       "<IPython.core.display.Video object>"
      ]
     },
     "metadata": {},
     "output_type": "display_data"
    }
   ],
   "source": [
    "#@title Visualise Matrix as a Transformation\n",
    "\n",
    "mat = _symm\n",
    "\n",
    "%manim -qm -o svmt -v WARNING SphereTransformation"
   ]
  },
  {
   "cell_type": "code",
   "execution_count": 7,
   "metadata": {
    "colab": {
     "base_uri": "https://localhost:8080/"
    },
    "id": "1e0IFG4XDTxz",
    "outputId": "2ae81f1e-3174-465e-b485-72a735839942"
   },
   "outputs": [
    {
     "name": "stderr",
     "output_type": "stream",
     "text": [
      "                                                                                                                                                                            \r"
     ]
    },
    {
     "data": {
      "text/html": [
       "<video src=\"media/jupyter/SpectralDecomposition@2022-12-15@11-35-56.mp4\" controls autoplay loop style=\"max-width: 25vw;\"  >\n",
       "      Your browser does not support the <code>video</code> element.\n",
       "    </video>"
      ],
      "text/plain": [
       "<IPython.core.display.Video object>"
      ]
     },
     "metadata": {},
     "output_type": "display_data"
    }
   ],
   "source": [
    "#@title Spectral Decomposition\n",
    "\n",
    "mat = _symm\n",
    "\n",
    "labs = [\"A\", \"D\", \"P\", r\"P^\\top\"]\n",
    "\n",
    "class SpectralDecomposition(Scene):\n",
    "    def construct(self):\n",
    "        update(mat)\n",
    "        def mat2str(matrix):\n",
    "            return r\"\\left[\\begin{matrix}\" + r\"\\\\\".join(map(lambda r: \"&\".join(map(lambda e: str(e), r)), matrix)) + r\"\\end{matrix}\\right]\"\n",
    "\n",
    "        m = MathTex(labs[0] + r\"=\" + mat2str(mat)).move_to([-4.5,2.5,0])\n",
    "        t = MathTex(r\"c_A(x)=\" + \"\".join(map(lambda e: \"(\" + str(e) + \" - \" + \"x)\", wS))).next_to(m, buff=1)\n",
    "        d = MathTex(labs[1] + r\"=\" + mat2str(wDS)).move_to([-4,0.5,0])\n",
    "        p = MathTex(labs[2] + r\"=\" + mat2str(vS)).next_to(d, buff=1)\n",
    "        pT = MathTex(labs[3] + r\"=\" + mat2str(vTS)).next_to(p, direction=DOWN, buff=0.5)\n",
    "        \n",
    "        self.add(m)\n",
    "        self.wait()\n",
    "        self.play(Create(t))\n",
    "        self.play(Transform(t.copy(), d), Create(p))\n",
    "        self.play(Transform(p.copy(), pT))\n",
    "        self.wait(duration=3)\n",
    "\n",
    "%manim -qm -o sd -v WARNING SpectralDecomposition"
   ]
  },
  {
   "cell_type": "code",
   "execution_count": 8,
   "metadata": {
    "colab": {
     "base_uri": "https://localhost:8080/"
    },
    "id": "j4rZKckzptHg",
    "outputId": "0fbe1d8f-1c3d-4d31-f927-df7db84f2d5a"
   },
   "outputs": [
    {
     "name": "stderr",
     "output_type": "stream",
     "text": [
      "                                                                                                        \r"
     ]
    },
    {
     "data": {
      "text/html": [
       "<video src=\"media/jupyter/SphereTransformationVectors@2022-12-15@11-37-42.mp4\" controls autoplay loop style=\"max-width: 25vw;\"  >\n",
       "      Your browser does not support the <code>video</code> element.\n",
       "    </video>"
      ],
      "text/plain": [
       "<IPython.core.display.Video object>"
      ]
     },
     "metadata": {},
     "output_type": "display_data"
    }
   ],
   "source": [
    "#@title Transformation of Eigenvectors\n",
    "\n",
    "mat = _symm\n",
    "update(mat)\n",
    "vec = vT\n",
    "vec2 = np.dot(vec, np.transpose(_symm))\n",
    "\n",
    "class SphereTransformationVectors(ThreeDScene):\n",
    "    def construct(self):\n",
    "        ax = ThreeDAxes()\n",
    "        colors = [RED, GREEN, BLUE]\n",
    "        arrs_before = vec2arr(vec, colors)\n",
    "        arrs_after = vec2arr(vec2, colors)\n",
    "        m = Matrix(mat).to_corner(UL)\n",
    "        self.add_fixed_in_frame_mobjects(m)\n",
    "        self.set_camera_orientation(phi=2*PI/5, theta=PI/5)\n",
    "        sphere = Sphere(fill_opacity=0.4)\n",
    "        self.add(ax, sphere)\n",
    "        self.begin_3dillusion_camera_rotation()\n",
    "        self.play(ApplyMatrix(mat, sphere), *list(map(lambda arri: arri[1].animate.become(arrs_after[arri[0]]), enumerate(arrs_before))), run_time=2)\n",
    "        self.wait(duration=3)\n",
    "\n",
    "%manim -qm -o sde -v WARNING SphereTransformationVectors"
   ]
  },
  {
   "cell_type": "markdown",
   "metadata": {},
   "source": [
    "Nice!\n",
    "\n",
    "As we can see, the transformation of a matrix is just an enlargement along its eigenvectors.\n",
    "So we can decompose it into:\n",
    " - Change the basis of the eigenvectors to the identity.\n",
    " - Enlarge by the eigenvalues.\n",
    " - Change the basis back to the eigenvectors.\n",
    " \n",
    "And this is exactly what we see for real-symmetric matrices, where the change of basis is just a rotation."
   ]
  },
  {
   "cell_type": "code",
   "execution_count": 9,
   "metadata": {
    "colab": {
     "base_uri": "https://localhost:8080/"
    },
    "id": "s3SLckUiVoD6",
    "outputId": "7f6bee61-d0c0-45ae-fdab-c2ed3b755187"
   },
   "outputs": [
    {
     "name": "stderr",
     "output_type": "stream",
     "text": [
      "                                                                                   \r"
     ]
    },
    {
     "data": {
      "text/html": [
       "<video src=\"media/jupyter/SphereSpectralDecomposition@2022-12-15@11-42-11.mp4\" controls autoplay loop style=\"max-width: 25vw;\"  >\n",
       "      Your browser does not support the <code>video</code> element.\n",
       "    </video>"
      ],
      "text/plain": [
       "<IPython.core.display.Video object>"
      ]
     },
     "metadata": {},
     "output_type": "display_data"
    }
   ],
   "source": [
    "#@title Transformations of Spectral Decomposition\n",
    "\n",
    "mat = _symm\n",
    "\n",
    "class SphereSpectralDecomposition(ThreeDScene):\n",
    "    def construct(self):\n",
    "        update(mat)\n",
    "        ax = ThreeDAxes()\n",
    "        p = Matrix(vS).to_corner(UL)\n",
    "        d = Matrix(wDS).to_corner(UL)\n",
    "        pT = Matrix(vTS).to_corner(UL)\n",
    "        self.set_camera_orientation(phi=2*PI/5, theta=-PI/5)\n",
    "        sphere = Sphere()\n",
    "        self.add(ax, sphere)\n",
    "        self.begin_3dillusion_camera_rotation()\n",
    "        self.add_fixed_in_frame_mobjects(pT)\n",
    "        self.play(FadeIn(pT), ApplyMatrix(vT, sphere))\n",
    "        self.wait()\n",
    "        self.add_fixed_in_frame_mobjects(d)\n",
    "        self.play(FadeOut(pT), FadeIn(d), ApplyMatrix(wD, sphere))\n",
    "        self.wait()\n",
    "        self.add_fixed_in_frame_mobjects(p)\n",
    "        self.play(FadeOut(d), FadeIn(p), ApplyMatrix(v, sphere))\n",
    "        self.wait(duration=3)\n",
    "        \n",
    "%manim -qm -o sdt -v WARNING SphereSpectralDecomposition"
   ]
  },
  {
   "cell_type": "markdown",
   "metadata": {
    "id": "Lz5sNQYfXtCV",
    "tags": []
   },
   "source": [
    "## Single Value Decomposition\n",
    "\n",
    "So that's cool! However...\n",
    "\n",
    "> Pick any matrix. It's likely to be non-symmetric.\n",
    "\n",
    "... it only works on real symmetric matrices.\n",
    "\n",
    "If only there was a way to decompose any real matrix into a rotation, enlargement, and rotation.\n",
    "\n",
    "There is!\n",
    "\n",
    "We need to find an orthogonal matrix $V$ such that $AV$ has orthogonal vectors, or rather $$AV=U\\Sigma$$ where $\\Sigma$ is diagonal and $U$ is orthogonal.\n",
    "\n",
    "Then we have $$A=U\\Sigma V^\\top$$\n",
    "\n",
    "## A Return to Spectral Decomposition\n",
    "\n",
    "Consider $AA^\\top$.\n",
    "\n",
    "$AA^\\top = (U\\Sigma V^\\top)(U\\Sigma V^\\top)^\\top=(U\\Sigma V^\\top)(V\\Sigma^\\top U^\\top)$\n",
    "\n",
    "So $AA^\\top = U\\Sigma\\Sigma^\\top U^\\top$ because $V^{-1}=V^\\top$\n",
    "\n",
    "> Notice what happened to the dimension.\n",
    "\n",
    "Since $AA^\\top$ is symmetric, we can use spectral decomposition!\n",
    "\n",
    "$U$ is the orthonormal basis of eigenvectors and $\\Sigma\\Sigma^\\top$ is the diagonal matrix of eigenvalues of $AA^\\top$. \n",
    "\n",
    "We can do the same for $A^\\top A$ and find that $V$ is the orthonormal basis of eigenvectors and $\\Sigma^\\top\\Sigma$ is the diagonal matrix of eigenvalues of $A^\\top A$.\n",
    "\n",
    "> So what is $\\Sigma$? We know it's diagonal, right?\n",
    "\n",
    "But $\\Sigma$ is rectangular. Since the non-zero eigenvalues of $A^\\top A$ and $A A^\\top$ are the same, $\\Sigma$ is the **rectangular** diagonal matrix of the roots of the non-zero eigenvalues.\n"
   ]
  },
  {
   "cell_type": "code",
   "execution_count": 10,
   "metadata": {},
   "outputs": [
    {
     "name": "stderr",
     "output_type": "stream",
     "text": [
      "                                                                                                                                     \r"
     ]
    },
    {
     "data": {
      "text/html": [
       "<video src=\"media/jupyter/ShowAATranspose@2022-12-15@11-42-13.mp4\" controls autoplay loop style=\"max-width: 25vw;\"  >\n",
       "      Your browser does not support the <code>video</code> element.\n",
       "    </video>"
      ],
      "text/plain": [
       "<IPython.core.display.Video object>"
      ]
     },
     "metadata": {},
     "output_type": "display_data"
    }
   ],
   "source": [
    "mat = _rect\n",
    "\n",
    "class ShowAATranspose(Scene):\n",
    "    def construct(self):\n",
    "        def mat2str(matrix):\n",
    "            return r\"\\left[\\begin{matrix}\" + r\"\\\\\".join(map(lambda r: \"&\".join(map(lambda e: str(e), r)), matrix)) + r\"\\end{matrix}\\right]\"\n",
    "\n",
    "        m = MathTex(r\"A=\" + mat2str(mat)).move_to([0,2.5,0])\n",
    "        mmt = MathTex(r\"AA^\\top=\" + mat2str(np.dot(mat, np.transpose(mat)))).next_to(m, direction=DOWN+LEFT)\n",
    "        mtm = MathTex(r\"A^\\top A=\" + mat2str(np.dot(np.transpose(mat), mat))).next_to(m, direction=DOWN+RIGHT)\n",
    "        \n",
    "        self.add(m)\n",
    "        self.wait()\n",
    "        self.play(Transform(m.copy(), mmt))\n",
    "        self.play(Transform(m.copy(), mtm))\n",
    "        self.wait(duration=3)\n",
    "        \n",
    "%manim -qm -o aat -v WARNING ShowAATranspose"
   ]
  },
  {
   "cell_type": "code",
   "execution_count": 11,
   "metadata": {},
   "outputs": [
    {
     "name": "stderr",
     "output_type": "stream",
     "text": [
      "                                                                                                                                                \r"
     ]
    },
    {
     "data": {
      "text/html": [
       "<video src=\"media/jupyter/SpectralDecomposition@2022-12-15@11-42-17.mp4\" controls autoplay loop style=\"max-width: 25vw;\"  >\n",
       "      Your browser does not support the <code>video</code> element.\n",
       "    </video>"
      ],
      "text/plain": [
       "<IPython.core.display.Video object>"
      ]
     },
     "metadata": {},
     "output_type": "display_data"
    }
   ],
   "source": [
    "#@title Spectral Decomposition for U\n",
    "\n",
    "mat = np.dot(_rect, np.transpose(_rect))\n",
    "\n",
    "labs = [r\"AA^\\top\", r\"\\Sigma\\Sigma^\\top\", \"U\", r\"U^\\top\"]\n",
    "\n",
    "%manim -qm -o aatu -v WARNING SpectralDecomposition"
   ]
  },
  {
   "cell_type": "code",
   "execution_count": 12,
   "metadata": {},
   "outputs": [
    {
     "name": "stderr",
     "output_type": "stream",
     "text": [
      "                                                                                                                                                                         \r"
     ]
    },
    {
     "data": {
      "text/html": [
       "<video src=\"media/jupyter/SpectralDecomposition@2022-12-15@11-42-23.mp4\" controls autoplay loop style=\"max-width: 25vw;\"  >\n",
       "      Your browser does not support the <code>video</code> element.\n",
       "    </video>"
      ],
      "text/plain": [
       "<IPython.core.display.Video object>"
      ]
     },
     "metadata": {},
     "output_type": "display_data"
    }
   ],
   "source": [
    "#@title Spectral Decomposition for V\n",
    "\n",
    "mat = np.dot(np.transpose(_rect), _rect)\n",
    "\n",
    "labs = [r\"A^\\top A\", r\"\\Sigma^\\top\\Sigma\", \"V\", r\"V^\\top\"]\n",
    "\n",
    "%manim -qm -o aatv -v WARNING SpectralDecomposition"
   ]
  },
  {
   "cell_type": "markdown",
   "metadata": {},
   "source": [
    "> Notice how the non-zero eigenvalues are the same?"
   ]
  },
  {
   "cell_type": "markdown",
   "metadata": {
    "tags": []
   },
   "source": [
    "## But why?\n",
    "\n",
    "If $A$ represents a massive dataset, then the orthogonal basis vectors in $U$ corresponding to the largest eigenvalues is the weighting of each dimension which have the most profound effect on the data. This process is called Principle Component Analysis. "
   ]
  },
  {
   "cell_type": "code",
   "execution_count": 13,
   "metadata": {},
   "outputs": [
    {
     "name": "stdout",
     "output_type": "stream",
     "text": [
      "Dockerfile\n",
      "README.md\n",
      "main.ipynb\n",
      "media/\n",
      "media/videos/\n",
      "media/videos/manim/\n",
      "media/videos/manim/480p15/\n",
      "media/videos/manim/480p15/SphereTransformation.mp4\n",
      "media/videos/manim/480p15/VectorTransformation.mp4\n",
      "media/videos/manim/480p15/SphereTransformationVectors.mp4\n",
      "media/videos/manim/480p15/partial_movie_files/\n",
      "media/videos/manim/480p15/partial_movie_files/SpectralDecomposition/\n",
      "media/videos/manim/480p15/partial_movie_files/SpectralDecomposition/2201830969_3205527972_562651881.mp4\n",
      "media/videos/manim/480p15/partial_movie_files/SpectralDecomposition/3163782288_1186765707_1164716902.mp4\n",
      "media/videos/manim/480p15/partial_movie_files/SpectralDecomposition/2201830969_3779976427_2772045661.mp4\n",
      "media/videos/manim/480p15/partial_movie_files/SpectralDecomposition/2201830969_4201161277_623278909.mp4\n",
      "media/videos/manim/480p15/partial_movie_files/SpectralDecomposition/2201830969_398756330_2793867902.mp4\n",
      "media/videos/manim/480p15/partial_movie_files/SpectralDecomposition/2201830969_10117980_3434273891.mp4\n",
      "media/videos/manim/480p15/partial_movie_files/SpectralDecomposition/2201830969_3779976427_4034498404.mp4\n",
      "media/videos/manim/480p15/partial_movie_files/SpectralDecomposition/3163782288_1186765707_3691378979.mp4\n",
      "media/videos/manim/480p15/partial_movie_files/SpectralDecomposition/2201830969_464163786_1806154736.mp4\n",
      "media/videos/manim/480p15/partial_movie_files/SpectralDecomposition/2201830969_1235865676_3425221751.mp4\n",
      "media/videos/manim/480p15/partial_movie_files/SpectralDecomposition/2201830969_3779976427_3852729474.mp4\n",
      "media/videos/manim/480p15/partial_movie_files/SpectralDecomposition/2201830969_4129220771_2671443656.mp4\n",
      "media/videos/manim/480p15/partial_movie_files/SpectralDecomposition/2201830969_2354108470_2818310752.mp4\n",
      "media/videos/manim/480p15/partial_movie_files/SpectralDecomposition/2201830969_2664593083_3774377910.mp4\n",
      "media/videos/manim/480p15/partial_movie_files/SpectralDecomposition/3163782288_1186765707_1786142365.mp4\n",
      "media/videos/manim/480p15/partial_movie_files/SpectralDecomposition/2201830969_3779976427_1606809520.mp4\n",
      "media/videos/manim/480p15/partial_movie_files/SpectralDecomposition/2201830969_3779976427_3590921553.mp4\n",
      "media/videos/manim/480p15/partial_movie_files/SpectralDecomposition/2201830969_309610797_1675254455.mp4\n",
      "media/videos/manim/480p15/partial_movie_files/SpectralDecomposition/2201830969_2964903659_1853276900.mp4\n",
      "media/videos/manim/480p15/partial_movie_files/SpectralDecomposition/2201830969_3140437851_885659715.mp4\n",
      "media/videos/manim/480p15/partial_movie_files/SpectralDecomposition/3163782288_1186765707_1917291550.mp4\n",
      "media/videos/manim/480p15/partial_movie_files/SpectralDecomposition/partial_movie_file_list.txt\n",
      "media/videos/manim/480p15/partial_movie_files/SpectralDecomposition/2201830969_3805350546_2915600333.mp4\n",
      "media/videos/manim/480p15/partial_movie_files/SpectralDecomposition/2201830969_1597562159_2121005016.mp4\n",
      "media/videos/manim/480p15/partial_movie_files/SpectralDecomposition/2201830969_3077711637_10603464.mp4\n",
      "media/videos/manim/480p15/partial_movie_files/SpectralDecomposition/2201830969_3779976427_2698785371.mp4\n",
      "media/videos/manim/480p15/partial_movie_files/SpectralDecomposition/2201830969_3779976427_252110601.mp4\n",
      "media/videos/manim/480p15/partial_movie_files/SpectralDecomposition/2201830969_2367677820_3721699875.mp4\n",
      "media/videos/manim/480p15/partial_movie_files/SpectralDecomposition/2201830969_1996562260_2768672328.mp4\n",
      "media/videos/manim/480p15/partial_movie_files/SpectralDecomposition/2201830969_909778153_1995389279.mp4\n",
      "media/videos/manim/480p15/partial_movie_files/SpectralDecomposition/2201830969_1278563705_42947855.mp4\n",
      "media/videos/manim/480p15/partial_movie_files/SpectralDecomposition/2201830969_3412305558_842070507.mp4\n",
      "media/videos/manim/480p15/partial_movie_files/SpectralDecomposition/2201830969_464163786_997801179.mp4\n",
      "media/videos/manim/480p15/partial_movie_files/SpectralDecomposition/3163782288_1186765707_3024219459.mp4\n",
      "media/videos/manim/480p15/partial_movie_files/SpectralDecomposition/3163782288_1186765707_2508815744.mp4\n",
      "media/videos/manim/480p15/partial_movie_files/SpectralDecomposition/2201830969_679279457_2507637283.mp4\n",
      "media/videos/manim/480p15/partial_movie_files/SpectralDecomposition/2201830969_1627074446_7569109.mp4\n",
      "media/videos/manim/480p15/partial_movie_files/SpectralDecomposition/2201830969_413861660_3026951794.mp4\n",
      "media/videos/manim/480p15/partial_movie_files/SpectralDecomposition/2201830969_2420714933_2686461716.mp4\n",
      "media/videos/manim/480p15/partial_movie_files/SpectralDecomposition/2201830969_3779976427_3703725402.mp4\n",
      "media/videos/manim/480p15/partial_movie_files/SpectralDecomposition/2201830969_3878196866_163433252.mp4\n",
      "media/videos/manim/480p15/partial_movie_files/SpectralDecomposition/2201830969_3779976427_2118128984.mp4\n",
      "media/videos/manim/480p15/partial_movie_files/SpectralDecomposition/3163782288_1186765707_2984020671.mp4\n",
      "media/videos/manim/480p15/partial_movie_files/SpectralDecomposition/2201830969_2850962534_529447465.mp4\n",
      "media/videos/manim/480p15/partial_movie_files/SpectralDecomposition/2201830969_3779976427_2036133767.mp4\n",
      "media/videos/manim/480p15/partial_movie_files/SpectralDecomposition/2201830969_2781384228_2793867902.mp4\n",
      "media/videos/manim/480p15/partial_movie_files/SpectralDecomposition/2201830969_2367677820_2825566368.mp4\n",
      "media/videos/manim/480p15/partial_movie_files/SpectralDecomposition/2201830969_971321729_1564919815.mp4\n",
      "media/videos/manim/480p15/partial_movie_files/SpectralDecomposition/3163782288_1186765707_3619017746.mp4\n",
      "media/videos/manim/480p15/partial_movie_files/SpectralDecomposition/2201830969_3779976427_1548997984.mp4\n",
      "media/videos/manim/480p15/partial_movie_files/SpectralDecomposition/2201830969_1091295270_2818310752.mp4\n",
      "media/videos/manim/480p15/partial_movie_files/SpectralDecomposition/3163782288_1186765707_47164166.mp4\n",
      "media/videos/manim/480p15/partial_movie_files/SpectralDecomposition/2201830969_3779976427_3980594307.mp4\n",
      "media/videos/manim/480p15/partial_movie_files/SpectralDecomposition/3163782288_1186765707_3055968057.mp4\n",
      "media/videos/manim/480p15/partial_movie_files/SpectralDecomposition/2201830969_3671102036_480329359.mp4\n",
      "media/videos/manim/480p15/partial_movie_files/SpectralDecomposition/2201830969_1881091322_1928286416.mp4\n",
      "media/videos/manim/480p15/partial_movie_files/SpectralDecomposition/2201830969_3671102036_2096224871.mp4\n",
      "media/videos/manim/480p15/partial_movie_files/ShowAATranspose/\n",
      "media/videos/manim/480p15/partial_movie_files/ShowAATranspose/2201830969_3779976427_1536143507.mp4\n",
      "media/videos/manim/480p15/partial_movie_files/ShowAATranspose/partial_movie_file_list.txt\n",
      "media/videos/manim/480p15/partial_movie_files/ShowAATranspose/3163782288_1186765707_948471631.mp4\n",
      "media/videos/manim/480p15/partial_movie_files/ShowAATranspose/2201830969_1342814731_2580116781.mp4\n",
      "media/videos/manim/480p15/partial_movie_files/ShowAATranspose/2201830969_428512914_1121282618.mp4\n",
      "media/videos/manim/480p15/partial_movie_files/SphereSpectralDecomposition/\n",
      "media/videos/manim/480p15/partial_movie_files/SphereSpectralDecomposition/6590110_3670095331_121088062.mp4\n",
      "media/videos/manim/480p15/partial_movie_files/SphereSpectralDecomposition/2817580048_1731309929_3080882545.mp4\n",
      "media/videos/manim/480p15/partial_movie_files/SphereSpectralDecomposition/130490877_2256215379_2898835386.mp4\n",
      "media/videos/manim/480p15/partial_movie_files/SphereSpectralDecomposition/3686909603_3670095331_2812352881.mp4\n",
      "media/videos/manim/480p15/partial_movie_files/SphereSpectralDecomposition/partial_movie_file_list.txt\n",
      "media/videos/manim/480p15/partial_movie_files/SphereSpectralDecomposition/1886959061_1356491031_3064913580.mp4\n",
      "media/videos/manim/480p15/partial_movie_files/SphereSpectralDecomposition/1337517638_610643094_3524438096.mp4\n",
      "media/videos/manim/480p15/partial_movie_files/SphereTransformation/\n",
      "media/videos/manim/480p15/partial_movie_files/SphereTransformation/172235850_2020402371_142534868.mp4\n",
      "media/videos/manim/480p15/partial_movie_files/SphereTransformation/3686909603_1356491031_3473620468.mp4\n",
      "media/videos/manim/480p15/partial_movie_files/SphereTransformation/3686909603_1356491031_751338847.mp4\n",
      "media/videos/manim/480p15/partial_movie_files/SphereTransformation/partial_movie_file_list.txt\n",
      "media/videos/manim/480p15/partial_movie_files/SphereTransformation/172235850_2020402371_885348211.mp4\n",
      "media/videos/manim/480p15/partial_movie_files/SphereTransformation/3686909603_1356491031_532779142.mp4\n",
      "media/videos/manim/480p15/partial_movie_files/SphereTransformation/3686909603_1356491031_4120891861.mp4\n",
      "media/videos/manim/480p15/partial_movie_files/SphereTransformation/172235850_2020402371_2898611482.mp4\n",
      "media/videos/manim/480p15/partial_movie_files/SphereTransformation/172235850_2020402371_2163968973.mp4\n",
      "media/videos/manim/480p15/partial_movie_files/VectorTransformation/\n",
      "media/videos/manim/480p15/partial_movie_files/VectorTransformation/509138382_3670095331_2356137385.mp4\n",
      "media/videos/manim/480p15/partial_movie_files/VectorTransformation/2166962747_803290537_3076000980.mp4\n",
      "media/videos/manim/480p15/partial_movie_files/VectorTransformation/3427639635_4045495585_2972309116.mp4\n",
      "media/videos/manim/480p15/partial_movie_files/VectorTransformation/849044444_2538747482_1329289162.mp4\n",
      "media/videos/manim/480p15/partial_movie_files/VectorTransformation/2817580048_480960287_3523792234.mp4\n",
      "media/videos/manim/480p15/partial_movie_files/VectorTransformation/3427639635_3670095331_1722882158.mp4\n",
      "media/videos/manim/480p15/partial_movie_files/VectorTransformation/130490877_1356491031_1718077647.mp4\n",
      "media/videos/manim/480p15/partial_movie_files/VectorTransformation/1544983211_1356491031_3359168987.mp4\n",
      "media/videos/manim/480p15/partial_movie_files/VectorTransformation/950339317_1656315330_3060186687.mp4\n",
      "media/videos/manim/480p15/partial_movie_files/VectorTransformation/3904069289_1356491031_3073264019.mp4\n",
      "media/videos/manim/480p15/partial_movie_files/VectorTransformation/partial_movie_file_list.txt\n",
      "media/videos/manim/480p15/partial_movie_files/VectorTransformation/509138382_3670095331_1001075865.mp4\n",
      "media/videos/manim/480p15/partial_movie_files/VectorTransformation/2817580048_480960287_2061883766.mp4\n",
      "media/videos/manim/480p15/partial_movie_files/VectorTransformation/4128393882_2156039978_2520608694.mp4\n",
      "media/videos/manim/480p15/partial_movie_files/VectorTransformation/2817580048_480960287_1109892703.mp4\n",
      "media/videos/manim/480p15/partial_movie_files/VectorTransformation/4128393882_444118627_3892223392.mp4\n",
      "media/videos/manim/480p15/partial_movie_files/VectorTransformation/2817580048_480960287_2731728318.mp4\n",
      "media/videos/manim/480p15/partial_movie_files/VectorTransformation/3904069289_1356491031_3359168987.mp4\n",
      "media/videos/manim/480p15/partial_movie_files/VectorTransformation/2166962747_16112267_1329289162.mp4\n",
      "media/videos/manim/480p15/partial_movie_files/SphereTransformationVectors/\n",
      "media/videos/manim/480p15/partial_movie_files/SphereTransformationVectors/3686909603_1356491031_402409653.mp4\n",
      "media/videos/manim/480p15/partial_movie_files/SphereTransformationVectors/172235850_862958999_2156051027.mp4\n",
      "media/videos/manim/480p15/partial_movie_files/SphereTransformationVectors/3686909603_1356491031_1203400489.mp4\n",
      "media/videos/manim/480p15/partial_movie_files/SphereTransformationVectors/172235850_2833099950_3210779773.mp4\n",
      "media/videos/manim/480p15/partial_movie_files/SphereTransformationVectors/3686909603_1356491031_1943946950.mp4\n",
      "media/videos/manim/480p15/partial_movie_files/SphereTransformationVectors/3686909603_1356491031_1730126431.mp4\n",
      "media/videos/manim/480p15/partial_movie_files/SphereTransformationVectors/partial_movie_file_list.txt\n",
      "media/videos/manim/480p15/partial_movie_files/SphereTransformationVectors/509138382_1356491031_1943946950.mp4\n",
      "media/videos/manim/480p15/partial_movie_files/SphereTransformationVectors/172235850_1547903142_2156051027.mp4\n",
      "media/videos/manim/480p15/partial_movie_files/SphereTransformationVectors/172235850_2577394254_1788543675.mp4\n",
      "media/videos/manim/480p15/partial_movie_files/SphereTransformationVectors/3686909603_1356491031_4203956558.mp4\n",
      "media/videos/manim/480p15/partial_movie_files/SphereTransformationVectors/172235850_2044299087_3210779773.mp4\n",
      "media/videos/manim/480p15/partial_movie_files/SphereTransformationVectors/172235850_51821261_2156051027.mp4\n",
      "media/videos/manim/480p15/ShowAATranspose.mp4\n",
      "media/videos/manim/480p15/SpectralDecomposition.mp4\n",
      "media/videos/manim/480p15/SphereSpectralDecomposition.mp4\n",
      "media/videos/manim/720p30/\n",
      "media/videos/manim/720p30/SphereTransformation.mp4\n",
      "media/videos/manim/720p30/VectorTransformation.mp4\n",
      "media/videos/manim/720p30/SphereTransformationVectors.mp4\n",
      "media/videos/manim/720p30/partial_movie_files/\n",
      "media/videos/manim/720p30/partial_movie_files/SpectralDecomposition/\n",
      "media/videos/manim/720p30/partial_movie_files/SpectralDecomposition/1353618911_1597562159_2121005016.mp4\n",
      "media/videos/manim/720p30/partial_movie_files/SpectralDecomposition/1353618911_3779976427_1606809520.mp4\n",
      "media/videos/manim/720p30/partial_movie_files/SpectralDecomposition/1353618911_3805350546_2915600333.mp4\n",
      "media/videos/manim/720p30/partial_movie_files/SpectralDecomposition/1353618911_3140437851_885659715.mp4\n",
      "media/videos/manim/720p30/partial_movie_files/SpectralDecomposition/1353618911_3779976427_3852729474.mp4\n",
      "media/videos/manim/720p30/partial_movie_files/SpectralDecomposition/1353618911_971321729_1564919815.mp4\n",
      "media/videos/manim/720p30/partial_movie_files/SpectralDecomposition/1342159004_1186765707_2984020671.mp4\n",
      "media/videos/manim/720p30/partial_movie_files/SpectralDecomposition/1342159004_1186765707_47164166.mp4\n",
      "media/videos/manim/720p30/partial_movie_files/SpectralDecomposition/1353618911_2850962534_529447465.mp4\n",
      "media/videos/manim/720p30/partial_movie_files/SpectralDecomposition/partial_movie_file_list.txt\n",
      "media/videos/manim/720p30/partial_movie_files/SpectralDecomposition/1353618911_3779976427_3590921553.mp4\n",
      "media/videos/manim/720p30/partial_movie_files/SpectralDecomposition/1353618911_909778153_1995389279.mp4\n",
      "media/videos/manim/720p30/partial_movie_files/SpectralDecomposition/1353618911_679279457_2507637283.mp4\n",
      "media/videos/manim/720p30/partial_movie_files/SpectralDecomposition/1353618911_2664593083_3774377910.mp4\n",
      "media/videos/manim/720p30/partial_movie_files/SpectralDecomposition/1353618911_2367677820_3721699875.mp4\n",
      "media/videos/manim/720p30/partial_movie_files/SpectralDecomposition/1342159004_1186765707_1164716902.mp4\n",
      "media/videos/manim/720p30/partial_movie_files/ShowAATranspose/\n",
      "media/videos/manim/720p30/partial_movie_files/ShowAATranspose/1342159004_1186765707_948471631.mp4\n",
      "media/videos/manim/720p30/partial_movie_files/ShowAATranspose/1353618911_428512914_1121282618.mp4\n",
      "media/videos/manim/720p30/partial_movie_files/ShowAATranspose/partial_movie_file_list.txt\n",
      "media/videos/manim/720p30/partial_movie_files/ShowAATranspose/1353618911_3779976427_1536143507.mp4\n",
      "media/videos/manim/720p30/partial_movie_files/ShowAATranspose/1353618911_1342814731_2580116781.mp4\n",
      "media/videos/manim/720p30/partial_movie_files/SphereSpectralDecomposition/\n",
      "media/videos/manim/720p30/partial_movie_files/SphereSpectralDecomposition/1787412766_610643094_3524438096.mp4\n",
      "media/videos/manim/720p30/partial_movie_files/SphereSpectralDecomposition/3830744540_1356491031_1963487109.mp4\n",
      "media/videos/manim/720p30/partial_movie_files/SphereSpectralDecomposition/1839672315_3670095331_3094061457.mp4\n",
      "media/videos/manim/720p30/partial_movie_files/SphereSpectralDecomposition/partial_movie_file_list.txt\n",
      "media/videos/manim/720p30/partial_movie_files/SphereSpectralDecomposition/914978655_3670095331_2308808108.mp4\n",
      "media/videos/manim/720p30/partial_movie_files/SphereSpectralDecomposition/1389613518_1731309929_3080882545.mp4\n",
      "media/videos/manim/720p30/partial_movie_files/SphereSpectralDecomposition/2171378870_2256215379_2898835386.mp4\n",
      "media/videos/manim/720p30/partial_movie_files/SphereSpectralDecomposition/1449498828_610643094_3524438096.mp4\n",
      "media/videos/manim/720p30/partial_movie_files/SphereSpectralDecomposition/610680697_3670095331_517624450.mp4\n",
      "media/videos/manim/720p30/partial_movie_files/SphereSpectralDecomposition/3964893688_1356491031_3064913580.mp4\n",
      "media/videos/manim/720p30/partial_movie_files/SphereSpectralDecomposition/400255044_2256215379_2898835386.mp4\n",
      "media/videos/manim/720p30/partial_movie_files/SphereSpectralDecomposition/542240456_3670095331_121088062.mp4\n",
      "media/videos/manim/720p30/partial_movie_files/SphereTransformation/\n",
      "media/videos/manim/720p30/partial_movie_files/SphereTransformation/1839672315_1356491031_4120891861.mp4\n",
      "media/videos/manim/720p30/partial_movie_files/SphereTransformation/3353540816_2020402371_142534868.mp4\n",
      "media/videos/manim/720p30/partial_movie_files/SphereTransformation/3353540816_2020402371_2898611482.mp4\n",
      "media/videos/manim/720p30/partial_movie_files/SphereTransformation/partial_movie_file_list.txt\n",
      "media/videos/manim/720p30/partial_movie_files/SphereTransformation/1839672315_1356491031_46520254.mp4\n",
      "media/videos/manim/720p30/partial_movie_files/SphereTransformation/3353540816_2020402371_885348211.mp4\n",
      "media/videos/manim/720p30/partial_movie_files/SphereTransformation/1839672315_1356491031_4068720447.mp4\n",
      "media/videos/manim/720p30/partial_movie_files/SphereTransformation/3353540816_2020402371_2163968973.mp4\n",
      "media/videos/manim/720p30/partial_movie_files/SphereTransformation/1839672315_1356491031_751338847.mp4\n",
      "media/videos/manim/720p30/partial_movie_files/SphereTransformation/610680697_1356491031_608929856.mp4\n",
      "media/videos/manim/720p30/partial_movie_files/SphereTransformation/610680697_1356491031_1667383011.mp4\n",
      "media/videos/manim/720p30/partial_movie_files/SphereTransformation/610680697_1356491031_2593243953.mp4\n",
      "media/videos/manim/720p30/partial_movie_files/SphereTransformation/610680697_661745955_685953332.mp4\n",
      "media/videos/manim/720p30/partial_movie_files/SphereTransformation/610680697_1356491031_3382348967.mp4\n",
      "media/videos/manim/720p30/partial_movie_files/SphereTransformation/610680697_1356491031_3888538379.mp4\n",
      "media/videos/manim/720p30/partial_movie_files/SphereTransformation/610680697_1356491031_731872023.mp4\n",
      "media/videos/manim/720p30/partial_movie_files/SphereTransformation/610680697_1356491031_2972257213.mp4\n",
      "media/videos/manim/720p30/partial_movie_files/VectorTransformation/\n",
      "media/videos/manim/720p30/partial_movie_files/VectorTransformation/1389613518_480960287_1109892703.mp4\n",
      "media/videos/manim/720p30/partial_movie_files/VectorTransformation/partial_movie_file_list.txt\n",
      "media/videos/manim/720p30/partial_movie_files/VectorTransformation/1649024729_16112267_1329289162.mp4\n",
      "media/videos/manim/720p30/partial_movie_files/VectorTransformation/2933923998_1356491031_1453389262.mp4\n",
      "media/videos/manim/720p30/partial_movie_files/VectorTransformation/1663697580_1656315330_3060186687.mp4\n",
      "media/videos/manim/720p30/partial_movie_files/VectorTransformation/3078608045_3670095331_1722882158.mp4\n",
      "media/videos/manim/720p30/partial_movie_files/VectorTransformation/1389613518_480960287_2731728318.mp4\n",
      "media/videos/manim/720p30/partial_movie_files/VectorTransformation/3078608045_3670095331_3034767201.mp4\n",
      "media/videos/manim/720p30/partial_movie_files/VectorTransformation/1389613518_480960287_1178794566.mp4\n",
      "media/videos/manim/720p30/partial_movie_files/VectorTransformation/1649024729_3976754246_1329289162.mp4\n",
      "media/videos/manim/720p30/partial_movie_files/VectorTransformation/1389613518_480960287_1601959095.mp4\n",
      "media/videos/manim/720p30/partial_movie_files/VectorTransformation/3986728253_1356491031_2955888650.mp4\n",
      "media/videos/manim/720p30/partial_movie_files/VectorTransformation/2933923998_1356491031_818426917.mp4\n",
      "media/videos/manim/720p30/partial_movie_files/VectorTransformation/1663697580_1850071033_3060186687.mp4\n",
      "media/videos/manim/720p30/partial_movie_files/VectorTransformation/1927727040_1656315330_3060186687.mp4\n",
      "media/videos/manim/720p30/partial_movie_files/VectorTransformation/2922954256_3670095331_3364457268.mp4\n",
      "media/videos/manim/720p30/partial_movie_files/SphereTransformationVectors/\n",
      "media/videos/manim/720p30/partial_movie_files/SphereTransformationVectors/3353540816_1547903142_2156051027.mp4\n",
      "media/videos/manim/720p30/partial_movie_files/SphereTransformationVectors/partial_movie_file_list.txt\n",
      "media/videos/manim/720p30/partial_movie_files/SphereTransformationVectors/2922954256_1356491031_1943946950.mp4\n",
      "media/videos/manim/720p30/partial_movie_files/SphereTransformationVectors/2048360606_1356491031_2283769890.mp4\n",
      "media/videos/manim/720p30/ShowAATranspose.mp4\n",
      "media/videos/manim/720p30/SpectralDecomposition.mp4\n",
      "media/videos/manim/720p30/SphereSpectralDecomposition.mp4\n",
      "media/videos/manim/720p30/svmt.mp4\n",
      "media/videos/manim/720p30/aat.mp4\n",
      "media/videos/manim/720p30/aatv.mp4\n",
      "media/videos/manim/720p30/sd.mp4\n",
      "media/videos/manim/720p30/sdt.mp4\n",
      "media/videos/manim/720p30/sde.mp4\n",
      "media/videos/manim/720p30/sto.mp4\n",
      "media/videos/manim/720p30/vmt.mp4\n",
      "media/videos/manim/720p30/st.mp4\n",
      "media/videos/manim/720p30/aatu.mp4\n",
      "media/videos/manim/720p30/ste.mp4\n",
      "media/Tex/\n",
      "media/Tex/3821e58169c70e67.aux\n",
      "media/Tex/ec13174042d56640.aux\n",
      "media/Tex/46a314111691838f.dvi\n",
      "media/Tex/d83f669e5e4c7608.tex\n",
      "media/Tex/d005e617e319acf1.log\n",
      "media/Tex/2857e3d96b758779.dvi\n",
      "media/Tex/3b7e741a76ee76a4.tex\n",
      "media/Tex/196b5d48fe61a4f4.dvi\n",
      "media/Tex/903ae334818317d0.dvi\n",
      "media/Tex/708694db468e3f78.log\n",
      "media/Tex/a14fe21004ee9494.log\n",
      "media/Tex/636fcc1c0070bb50.tex\n",
      "media/Tex/250797541eff2c6e.aux\n",
      "media/Tex/5707bd4d558c91bd.dvi\n",
      "media/Tex/d83f669e5e4c7608.dvi\n",
      "media/Tex/b74a20ba05abe3a7.aux\n",
      "media/Tex/250797541eff2c6e.svg\n",
      "media/Tex/dca3af5426c7e530.dvi\n",
      "media/Tex/f1e3d12823d58b6e.tex\n",
      "media/Tex/46a314111691838f.tex\n",
      "media/Tex/196b5d48fe61a4f4.tex\n",
      "media/Tex/5707bd4d558c91bd.log\n",
      "media/Tex/6939bcf7a8ceb6e0.tex\n",
      "media/Tex/b3ec96b495f840fd.dvi\n",
      "media/Tex/ec13174042d56640.svg\n",
      "media/Tex/a14fe21004ee9494.aux\n",
      "media/Tex/708694db468e3f78.dvi\n",
      "media/Tex/4543201eab35a503.log\n",
      "media/Tex/3821e58169c70e67.tex\n",
      "media/Tex/196b5d48fe61a4f4.svg\n",
      "media/Tex/83ff00369df6d3af.tex\n",
      "media/Tex/f63545ad2dce42e4.aux\n",
      "media/Tex/fe93b63f0ccf0736.dvi\n",
      "media/Tex/7b16212c8d8c36b1.dvi\n",
      "media/Tex/46a314111691838f.svg\n",
      "media/Tex/5fd20358e2d612c8.aux\n",
      "media/Tex/f2d0fe058d6e7b8d.aux\n",
      "media/Tex/83ff00369df6d3af.log\n",
      "media/Tex/997acb682cfe05c1.dvi\n",
      "media/Tex/6939bcf7a8ceb6e0.svg\n",
      "media/Tex/3d03f1e61f74f6b3.log\n",
      "media/Tex/196b5d48fe61a4f4.aux\n",
      "media/Tex/a14fe21004ee9494.tex\n",
      "media/Tex/d1243035533990ad.log\n",
      "media/Tex/1aa8151cc8ae53e8.log\n",
      "media/Tex/d649e0c48b8add35.svg\n",
      "media/Tex/708694db468e3f78.tex\n",
      "media/Tex/5fd20358e2d612c8.tex\n",
      "media/Tex/5fd20358e2d612c8.dvi\n",
      "media/Tex/36e2cd3416ea16d4.aux\n",
      "media/Tex/fe93b63f0ccf0736.log\n",
      "media/Tex/de4adf239bf28b4f.dvi\n",
      "media/Tex/9070a8eca31b244d.log\n",
      "media/Tex/b3ec96b495f840fd.tex\n",
      "media/Tex/de4adf239bf28b4f.svg\n",
      "media/Tex/ec13174042d56640.dvi\n",
      "media/Tex/903e468fc7885df7.aux\n",
      "media/Tex/1a7db82a59b2ec69.aux\n",
      "media/Tex/3821e58169c70e67.dvi\n",
      "media/Tex/3d03f1e61f74f6b3.dvi\n",
      "media/Tex/f63545ad2dce42e4.dvi\n",
      "media/Tex/903e468fc7885df7.dvi\n",
      "media/Tex/250797541eff2c6e.log\n",
      "media/Tex/fe93b63f0ccf0736.aux\n",
      "media/Tex/997acb682cfe05c1.log\n",
      "media/Tex/250797541eff2c6e.dvi\n",
      "media/Tex/636fcc1c0070bb50.aux\n",
      "media/Tex/f2d0fe058d6e7b8d.log\n",
      "media/Tex/ce14bce8a4b9ddee.log\n",
      "media/Tex/36e2cd3416ea16d4.svg\n",
      "media/Tex/30f1dac580a0fa2d.aux\n",
      "media/Tex/cca85eb05056dcc6.log\n",
      "media/Tex/5707bd4d558c91bd.svg\n",
      "media/Tex/6939bcf7a8ceb6e0.log\n",
      "media/Tex/1aa8151cc8ae53e8.aux\n",
      "media/Tex/b329fdb1a1f00112.tex\n",
      "media/Tex/7b16212c8d8c36b1.log\n",
      "media/Tex/c5698a2874555f91.aux\n",
      "media/Tex/6939bcf7a8ceb6e0.dvi\n",
      "media/Tex/2857e3d96b758779.aux\n",
      "media/Tex/3181fd5377a89a14.aux\n",
      "media/Tex/f2d0fe058d6e7b8d.svg\n",
      "media/Tex/b2766b83d63e04eb.tex\n",
      "media/Tex/997acb682cfe05c1.tex\n",
      "media/Tex/b2766b83d63e04eb.svg\n",
      "media/Tex/4543201eab35a503.svg\n",
      "media/Tex/ce14bce8a4b9ddee.svg\n",
      "media/Tex/b74a20ba05abe3a7.log\n",
      "media/Tex/cafb054593804f32.tex\n",
      "media/Tex/3b7e741a76ee76a4.log\n",
      "media/Tex/903ae334818317d0.svg\n",
      "media/Tex/c5698a2874555f91.svg\n",
      "media/Tex/30f1dac580a0fa2d.dvi\n",
      "media/Tex/d649e0c48b8add35.aux\n",
      "media/Tex/db329bf67e9182b2.tex\n",
      "media/Tex/a14fe21004ee9494.svg\n",
      "media/Tex/d9294a8d6b301b15.aux\n",
      "media/Tex/d9294a8d6b301b15.log\n",
      "media/Tex/83ff00369df6d3af.dvi\n",
      "media/Tex/4543201eab35a503.dvi\n",
      "media/Tex/fe93b63f0ccf0736.svg\n",
      "media/Tex/cca85eb05056dcc6.tex\n",
      "media/Tex/b329fdb1a1f00112.log\n",
      "media/Tex/f1e3d12823d58b6e.aux\n",
      "media/Tex/9070a8eca31b244d.svg\n",
      "media/Tex/9070a8eca31b244d.tex\n",
      "media/Tex/cca85eb05056dcc6.dvi\n",
      "media/Tex/1a7db82a59b2ec69.tex\n",
      "media/Tex/c5698a2874555f91.dvi\n",
      "media/Tex/c5698a2874555f91.log\n",
      "media/Tex/d9294a8d6b301b15.svg\n",
      "media/Tex/b74a20ba05abe3a7.tex\n",
      "media/Tex/997acb682cfe05c1.aux\n",
      "media/Tex/1a7db82a59b2ec69.svg\n",
      "media/Tex/708694db468e3f78.svg\n",
      "media/Tex/636fcc1c0070bb50.svg\n",
      "media/Tex/4543201eab35a503.tex\n",
      "media/Tex/3d03f1e61f74f6b3.tex\n",
      "media/Tex/5707bd4d558c91bd.aux\n",
      "media/Tex/36e2cd3416ea16d4.tex\n",
      "media/Tex/1a7db82a59b2ec69.log\n",
      "media/Tex/de4adf239bf28b4f.log\n",
      "media/Tex/196b5d48fe61a4f4.log\n",
      "media/Tex/3821e58169c70e67.log\n",
      "media/Tex/3d03f1e61f74f6b3.svg\n",
      "media/Tex/f2d0fe058d6e7b8d.tex\n",
      "media/Tex/d83f669e5e4c7608.log\n",
      "media/Tex/46a314111691838f.aux\n",
      "media/Tex/d005e617e319acf1.aux\n",
      "media/Tex/9070a8eca31b244d.aux\n",
      "media/Tex/3b7e741a76ee76a4.dvi\n",
      "media/Tex/b329fdb1a1f00112.aux\n",
      "media/Tex/708694db468e3f78.aux\n",
      "media/Tex/d649e0c48b8add35.tex\n",
      "media/Tex/5fd20358e2d612c8.log\n",
      "media/Tex/fe93b63f0ccf0736.tex\n",
      "media/Tex/30f1dac580a0fa2d.log\n",
      "media/Tex/1aa8151cc8ae53e8.svg\n",
      "media/Tex/d9294a8d6b301b15.tex\n",
      "media/Tex/f1e3d12823d58b6e.log\n",
      "media/Tex/2857e3d96b758779.tex\n",
      "media/Tex/db329bf67e9182b2.dvi\n",
      "media/Tex/36e2cd3416ea16d4.log\n",
      "media/Tex/997acb682cfe05c1.svg\n",
      "media/Tex/b3ec96b495f840fd.log\n",
      "media/Tex/636fcc1c0070bb50.log\n",
      "media/Tex/d005e617e319acf1.dvi\n",
      "media/Tex/db329bf67e9182b2.aux\n",
      "media/Tex/dca3af5426c7e530.aux\n",
      "media/Tex/b329fdb1a1f00112.dvi\n",
      "media/Tex/83ff00369df6d3af.aux\n",
      "media/Tex/1aa8151cc8ae53e8.dvi\n",
      "media/Tex/f1e3d12823d58b6e.dvi\n",
      "media/Tex/250797541eff2c6e.tex\n",
      "media/Tex/d1243035533990ad.dvi\n",
      "media/Tex/5fd20358e2d612c8.svg\n",
      "media/Tex/30f1dac580a0fa2d.tex\n",
      "media/Tex/3181fd5377a89a14.dvi\n",
      "media/Tex/d1243035533990ad.svg\n",
      "media/Tex/db329bf67e9182b2.log\n",
      "media/Tex/b2766b83d63e04eb.log\n",
      "media/Tex/f63545ad2dce42e4.log\n",
      "media/Tex/b329fdb1a1f00112.svg\n",
      "media/Tex/ce14bce8a4b9ddee.aux\n",
      "media/Tex/3b7e741a76ee76a4.aux\n",
      "media/Tex/f63545ad2dce42e4.svg\n",
      "media/Tex/2857e3d96b758779.log\n",
      "media/Tex/dca3af5426c7e530.log\n",
      "media/Tex/cca85eb05056dcc6.svg\n",
      "media/Tex/cafb054593804f32.aux\n",
      "media/Tex/d83f669e5e4c7608.svg\n",
      "media/Tex/cca85eb05056dcc6.aux\n",
      "media/Tex/ec13174042d56640.tex\n",
      "media/Tex/d649e0c48b8add35.dvi\n",
      "media/Tex/636fcc1c0070bb50.dvi\n",
      "media/Tex/d1243035533990ad.tex\n",
      "media/Tex/903ae334818317d0.tex\n",
      "media/Tex/903ae334818317d0.log\n",
      "media/Tex/36e2cd3416ea16d4.dvi\n",
      "media/Tex/cafb054593804f32.dvi\n",
      "media/Tex/b2766b83d63e04eb.dvi\n",
      "media/Tex/d649e0c48b8add35.log\n",
      "media/Tex/6939bcf7a8ceb6e0.aux\n",
      "media/Tex/1a7db82a59b2ec69.dvi\n",
      "media/Tex/a14fe21004ee9494.dvi\n",
      "media/Tex/903e468fc7885df7.svg\n",
      "media/Tex/1aa8151cc8ae53e8.tex\n",
      "media/Tex/cafb054593804f32.svg\n",
      "media/Tex/c5698a2874555f91.tex\n",
      "media/Tex/de4adf239bf28b4f.tex\n",
      "media/Tex/9070a8eca31b244d.dvi\n",
      "media/Tex/d83f669e5e4c7608.aux\n",
      "media/Tex/3181fd5377a89a14.tex\n",
      "media/Tex/f1e3d12823d58b6e.svg\n",
      "media/Tex/b2766b83d63e04eb.aux\n",
      "media/Tex/ce14bce8a4b9ddee.tex\n",
      "media/Tex/d005e617e319acf1.tex\n",
      "media/Tex/7b16212c8d8c36b1.aux\n",
      "media/Tex/b3ec96b495f840fd.svg\n",
      "media/Tex/903e468fc7885df7.tex\n",
      "media/Tex/d005e617e319acf1.svg\n",
      "media/Tex/7b16212c8d8c36b1.tex\n",
      "media/Tex/7b16212c8d8c36b1.svg\n",
      "media/Tex/f63545ad2dce42e4.tex\n",
      "media/Tex/2857e3d96b758779.svg\n",
      "media/Tex/903e468fc7885df7.log\n",
      "media/Tex/b3ec96b495f840fd.aux\n",
      "media/Tex/dca3af5426c7e530.tex\n",
      "media/Tex/db329bf67e9182b2.svg\n",
      "media/Tex/5707bd4d558c91bd.tex\n",
      "media/Tex/d1243035533990ad.aux\n",
      "media/Tex/3181fd5377a89a14.log\n",
      "media/Tex/46a314111691838f.log\n",
      "media/Tex/3821e58169c70e67.svg\n",
      "media/Tex/ec13174042d56640.log\n",
      "media/Tex/cafb054593804f32.log\n",
      "media/Tex/dca3af5426c7e530.svg\n",
      "media/Tex/30f1dac580a0fa2d.svg\n",
      "media/Tex/de4adf239bf28b4f.aux\n",
      "media/Tex/d9294a8d6b301b15.dvi\n",
      "media/Tex/f2d0fe058d6e7b8d.dvi\n",
      "media/Tex/ce14bce8a4b9ddee.dvi\n",
      "media/Tex/3181fd5377a89a14.svg\n",
      "media/Tex/3d03f1e61f74f6b3.aux\n",
      "media/Tex/3b7e741a76ee76a4.svg\n",
      "media/Tex/83ff00369df6d3af.svg\n",
      "media/Tex/903ae334818317d0.aux\n",
      "media/Tex/4543201eab35a503.aux\n",
      "media/jupyter/\n",
      "media/jupyter/SphereTransformationVectors@2022-12-15@11-37-42.mp4\n",
      "media/jupyter/SphereSpectralDecomposition@2022-12-15@11-42-11.mp4\n",
      "media/jupyter/SpectralDecomposition@2022-12-15@11-42-23.mp4\n",
      "media/jupyter/SpectralDecomposition@2022-12-15@11-42-17.mp4\n",
      "media/jupyter/SphereTransformation@2022-12-15@11-32-40.mp4\n",
      "media/jupyter/SphereTransformation@2022-12-15@11-34-45.mp4\n",
      "media/jupyter/VectorTransformation@2022-12-15@11-31-36.mp4\n",
      "media/jupyter/ShowAATranspose@2022-12-15@11-42-13.mp4\n",
      "media/jupyter/SphereTransformation@2022-12-15@11-33-43.mp4\n",
      "media/jupyter/SphereTransformation@2022-12-15@11-35-52.mp4\n",
      "media/jupyter/SpectralDecomposition@2022-12-15@11-35-56.mp4\n",
      "media/jupyter/.ipynb_checkpoints/\n",
      "media/jupyter/SphereTransformation@2022-12-15@11-19-51.mp4\n",
      "media/jupyter/VectorTransformation@2022-12-15@11-16-38.mp4\n",
      "media/images/\n",
      "media/images/manim/\n"
     ]
    }
   ],
   "source": [
    "!tar cvfz zipname.tar.gz *"
   ]
  }
 ],
 "metadata": {
  "colab": {
   "include_colab_link": true,
   "provenance": []
  },
  "kernelspec": {
   "display_name": "Python 3 (ipykernel)",
   "language": "python",
   "name": "python3"
  },
  "language_info": {
   "codemirror_mode": {
    "name": "ipython",
    "version": 3
   },
   "file_extension": ".py",
   "mimetype": "text/x-python",
   "name": "python",
   "nbconvert_exporter": "python",
   "pygments_lexer": "ipython3",
   "version": "3.8.11"
  }
 },
 "nbformat": 4,
 "nbformat_minor": 4
}
